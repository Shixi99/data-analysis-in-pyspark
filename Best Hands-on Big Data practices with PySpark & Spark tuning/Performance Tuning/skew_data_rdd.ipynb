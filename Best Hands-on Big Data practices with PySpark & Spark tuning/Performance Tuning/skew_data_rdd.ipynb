{
 "cells": [
  {
   "cell_type": "code",
   "execution_count": 14,
   "metadata": {},
   "outputs": [
    {
     "data": {
      "text/html": [
       "\n",
       "        <div>\n",
       "            <p><b>SparkContext</b></p>\n",
       "\n",
       "            <p><a href=\"http://Shixi-KK46BQG:4041\">Spark UI</a></p>\n",
       "\n",
       "            <dl>\n",
       "              <dt>Version</dt>\n",
       "                <dd><code>v2.3.1</code></dd>\n",
       "              <dt>Master</dt>\n",
       "                <dd><code>local[*]</code></dd>\n",
       "              <dt>AppName</dt>\n",
       "                <dd><code>Dealing with skewd data</code></dd>\n",
       "            </dl>\n",
       "        </div>\n",
       "        "
      ],
      "text/plain": [
       "<SparkContext master=local[*] appName=Dealing with skewd data>"
      ]
     },
     "execution_count": 14,
     "metadata": {},
     "output_type": "execute_result"
    }
   ],
   "source": [
    "import findspark\n",
    "findspark.init()\n",
    "import pyspark\n",
    "from pyspark.sql import SparkSession\n",
    "from pyspark.conf import SparkConf\n",
    "from pyspark import SparkContext\n",
    "\n",
    "conf = SparkConf()\\\n",
    "    .setMaster(\"local[*]\")\\\n",
    "    .setAppName(\"Dealing with skewd data\")\n",
    "    # .setExecutorEnv(\"spark.driver.memory\",\"2g\")\\\n",
    "    # .setExecutorEnv(\"spark.executor.memory\",\"4g\")\n",
    "\n",
    "spark = SparkSession\\\n",
    "    .builder\\\n",
    "    .config(conf=conf)\\\n",
    "    .getOrCreate()\n",
    "\n",
    "sc = spark.sparkContext\n",
    "sc"
   ]
  },
  {
   "cell_type": "code",
   "execution_count": 15,
   "metadata": {},
   "outputs": [],
   "source": [
    "import numpy as np\n",
    "import random\n",
    "\n",
    "key_1 = ['a'] * 10\n",
    "key_2 = ['b'] * 600000\n",
    "key_3 = ['c'] * 800\n",
    "key_4 = ['d'] * 100\n",
    "keys = key_1 + key_2 + key_3 + key_4\n",
    "random.shuffle(keys)\n",
    "\n",
    "\n",
    "values_1 = list(np.random.randint(low = 1, high = 100, size = len(key_1)))\n",
    "values_2 = list(np.random.randint(low = 1, high = 100, size = len(key_2)))\n",
    "values_3 = list(np.random.randint(low = 1, high = 100, size = len(key_3)))\n",
    "values_4 = list(np.random.randint(low = 1, high = 100, size = len(key_4)))\n",
    "values = values_1 + values_2 + values_3 + values_4\n",
    "\n",
    "\n",
    "pair_skew = list(zip(keys,values))"
   ]
  },
  {
   "cell_type": "code",
   "execution_count": 16,
   "metadata": {},
   "outputs": [],
   "source": [
    "# load data into RDD\n",
    "rdd = sc.parallelize(pair_skew, 8)"
   ]
  },
  {
   "cell_type": "code",
   "execution_count": 17,
   "metadata": {},
   "outputs": [],
   "source": [
    "# Generate normal data\n",
    "\n",
    "key_1 = ['a'] * 5\n",
    "key_2 = ['b'] * 60\n",
    "key_4 = ['c'] * 100\n",
    "\n",
    "keys = key_1 + key_2 + key_4\n",
    "random.shuffle(keys)\n",
    "\n",
    "\n",
    "values_1 = list(np.random.randint(low = 1, high = 100, size = len(key_1)))\n",
    "values_2 = list(np.random.randint(low = 1, high = 100, size = len(key_2)))\n",
    "values_4 = list(np.random.randint(low = 1, high = 100, size = len(key_4)))\n",
    "values = values_1 + values_2 + values_4\n",
    "\n",
    "pair_data = list(zip(keys,values))"
   ]
  },
  {
   "cell_type": "code",
   "execution_count": 18,
   "metadata": {},
   "outputs": [],
   "source": [
    "small_rdd = sc.parallelize(pair_data, 2)"
   ]
  },
  {
   "cell_type": "code",
   "execution_count": 8,
   "metadata": {},
   "outputs": [
    {
     "data": {
      "text/plain": [
       "3536160850"
      ]
     },
     "execution_count": 8,
     "metadata": {},
     "output_type": "execute_result"
    }
   ],
   "source": [
    "# Join without salting\n",
    "\n",
    "rdd_join = rdd.join(small_rdd)\n",
    "rdd_join.map(lambda x: int(x[1][0] + x[1][1])).reduce(lambda a,b: a+b)"
   ]
  },
  {
   "cell_type": "code",
   "execution_count": 23,
   "metadata": {},
   "outputs": [
    {
     "data": {
      "text/plain": [
       "[('b', (23, 53)),\n",
       " ('b', (23, 12)),\n",
       " ('b', (23, 81)),\n",
       " ('b', (23, 44)),\n",
       " ('b', (23, 11))]"
      ]
     },
     "execution_count": 23,
     "metadata": {},
     "output_type": "execute_result"
    }
   ],
   "source": [
    "rdd_join.take(5)"
   ]
  },
  {
   "cell_type": "code",
   "execution_count": 21,
   "metadata": {},
   "outputs": [
    {
     "data": {
      "text/plain": [
       "[('b', 23), ('b', 87), ('b', 30), ('b', 93), ('b', 4)]"
      ]
     },
     "execution_count": 21,
     "metadata": {},
     "output_type": "execute_result"
    }
   ],
   "source": [
    "rdd.take(5)"
   ]
  },
  {
   "cell_type": "code",
   "execution_count": 22,
   "metadata": {},
   "outputs": [
    {
     "data": {
      "text/plain": [
       "[('c', 35), ('c', 32), ('b', 53), ('b', 12), ('c', 27)]"
      ]
     },
     "execution_count": 22,
     "metadata": {},
     "output_type": "execute_result"
    }
   ],
   "source": [
    "small_rdd.take(5)"
   ]
  },
  {
   "cell_type": "code",
   "execution_count": 12,
   "metadata": {},
   "outputs": [
    {
     "data": {
      "text/plain": [
       "6010810"
      ]
     },
     "execution_count": 12,
     "metadata": {},
     "output_type": "execute_result"
    }
   ],
   "source": [
    "rdd.count()"
   ]
  },
  {
   "cell_type": "code",
   "execution_count": 13,
   "metadata": {},
   "outputs": [
    {
     "data": {
      "text/plain": [
       "165"
      ]
     },
     "execution_count": 13,
     "metadata": {},
     "output_type": "execute_result"
    }
   ],
   "source": [
    "small_rdd.count()"
   ]
  },
  {
   "cell_type": "code",
   "execution_count": 19,
   "metadata": {},
   "outputs": [],
   "source": [
    "def salting(val):\n",
    "    return val + '_' + str(random.randint(0,5))"
   ]
  },
  {
   "cell_type": "code",
   "execution_count": 20,
   "metadata": {},
   "outputs": [],
   "source": [
    "#import random\n",
    "# add a random value to the key --> (key, randint)\n",
    "rdd_new = rdd.map(lambda x: ((x[0], random.randint(0, 10)), x[1]))\n",
    "\n",
    "# replicate the small data\n",
    "small_rdd_new = small_rdd.cartesian(sc.parallelize(range(0, 11))).map(lambda x: ((x[0][0], x[1]), x[0][1]))"
   ]
  },
  {
   "cell_type": "code",
   "execution_count": 21,
   "metadata": {},
   "outputs": [],
   "source": [
    "# Join with salting\n",
    "\n",
    "rdd_join = rdd_new.join(small_rdd_new)"
   ]
  },
  {
   "cell_type": "code",
   "execution_count": 1,
   "metadata": {},
   "outputs": [],
   "source": [
    "rdd_join.map(lambda x: x[1][0] + x[1][1]).reduce(lambda a,b: a+b)"
   ]
  },
  {
   "cell_type": "code",
   "execution_count": null,
   "metadata": {},
   "outputs": [],
   "source": []
  }
 ],
 "metadata": {
  "kernelspec": {
   "display_name": "menv",
   "language": "python",
   "name": "python3"
  },
  "language_info": {
   "codemirror_mode": {
    "name": "ipython",
    "version": 3
   },
   "file_extension": ".py",
   "mimetype": "text/x-python",
   "name": "python",
   "nbconvert_exporter": "python",
   "pygments_lexer": "ipython3",
   "version": "3.6.8"
  },
  "orig_nbformat": 4,
  "vscode": {
   "interpreter": {
    "hash": "4b785a0a06e2d7a312a57a7dba8bbee97b75bb74680ea935274a48dc11f29425"
   }
  }
 },
 "nbformat": 4,
 "nbformat_minor": 2
}
