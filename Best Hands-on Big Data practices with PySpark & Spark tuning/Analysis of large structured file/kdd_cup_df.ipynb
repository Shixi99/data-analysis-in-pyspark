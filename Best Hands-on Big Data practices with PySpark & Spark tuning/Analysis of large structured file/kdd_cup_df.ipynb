{
 "cells": [
  {
   "cell_type": "code",
   "execution_count": 1,
   "metadata": {},
   "outputs": [
    {
     "data": {
      "text/html": [
       "\n",
       "            <div>\n",
       "                <p><b>SparkSession - in-memory</b></p>\n",
       "                \n",
       "        <div>\n",
       "            <p><b>SparkContext</b></p>\n",
       "\n",
       "            <p><a href=\"http://Shixi-KK46BQG:4040\">Spark UI</a></p>\n",
       "\n",
       "            <dl>\n",
       "              <dt>Version</dt>\n",
       "                <dd><code>v2.3.1</code></dd>\n",
       "              <dt>Master</dt>\n",
       "                <dd><code>local[*]</code></dd>\n",
       "              <dt>AppName</dt>\n",
       "                <dd><code>Working with DF</code></dd>\n",
       "            </dl>\n",
       "        </div>\n",
       "        \n",
       "            </div>\n",
       "        "
      ],
      "text/plain": [
       "<pyspark.sql.session.SparkSession at 0x1e3fbad71d0>"
      ]
     },
     "execution_count": 1,
     "metadata": {},
     "output_type": "execute_result"
    }
   ],
   "source": [
    "import findspark\n",
    "findspark.init()\n",
    "import pyspark\n",
    "from pyspark.sql import SparkSession\n",
    "from pyspark.conf import SparkConf\n",
    "from pyspark import SparkContext\n",
    "\n",
    "from pyspark.sql import functions as f\n",
    "\n",
    "conf = SparkConf()\\\n",
    "    .setMaster(\"local[*]\")\\\n",
    "    .setAppName(\"Working with DF\")\\\n",
    "    .setExecutorEnv(\"spark.driver.memory\",\"2g\")\\\n",
    "    .setExecutorEnv(\"spark.executor.memory\",\"4g\")\n",
    "\n",
    "spark = SparkSession\\\n",
    "    .builder\\\n",
    "    .config(conf=conf)\\\n",
    "    .getOrCreate()\n",
    "\n",
    "spark"
   ]
  },
  {
   "cell_type": "code",
   "execution_count": 1,
   "metadata": {},
   "outputs": [],
   "source": [
    "##### data source: http://kdd.ics.uci.edu/databases/kddcup99/kddcup99.html"
   ]
  },
  {
   "cell_type": "code",
   "execution_count": 2,
   "metadata": {},
   "outputs": [],
   "source": [
    "# we can read zip file with read.text() method\n",
    "df = spark.read.text('data/kddcup.data.gz')"
   ]
  },
  {
   "cell_type": "code",
   "execution_count": 3,
   "metadata": {},
   "outputs": [
    {
     "name": "stdout",
     "output_type": "stream",
     "text": [
      "root\n",
      " |-- value: string (nullable = true)\n",
      "\n"
     ]
    }
   ],
   "source": [
    "# let's explore schema\n",
    "df.printSchema()"
   ]
  },
  {
   "cell_type": "code",
   "execution_count": 4,
   "metadata": {},
   "outputs": [
    {
     "name": "stdout",
     "output_type": "stream",
     "text": [
      "+--------------------+\n",
      "|               value|\n",
      "+--------------------+\n",
      "|0,tcp,http,SF,215...|\n",
      "|0,tcp,http,SF,162...|\n",
      "|0,tcp,http,SF,236...|\n",
      "|0,tcp,http,SF,233...|\n",
      "|0,tcp,http,SF,239...|\n",
      "|0,tcp,http,SF,238...|\n",
      "|0,tcp,http,SF,235...|\n",
      "|0,tcp,http,SF,234...|\n",
      "|0,tcp,http,SF,239...|\n",
      "|0,tcp,http,SF,181...|\n",
      "|0,tcp,http,SF,184...|\n",
      "|0,tcp,http,SF,185...|\n",
      "|0,tcp,http,SF,239...|\n",
      "|0,tcp,http,SF,181...|\n",
      "|0,tcp,http,SF,236...|\n",
      "|0,tcp,http,SF,233...|\n",
      "|0,tcp,http,SF,238...|\n",
      "|0,tcp,http,SF,235...|\n",
      "|0,tcp,http,SF,234...|\n",
      "|0,tcp,http,SF,239...|\n",
      "+--------------------+\n",
      "only showing top 20 rows\n",
      "\n"
     ]
    }
   ],
   "source": [
    "df.show()"
   ]
  },
  {
   "cell_type": "code",
   "execution_count": 11,
   "metadata": {},
   "outputs": [
    {
     "name": "stdout",
     "output_type": "stream",
     "text": [
      "+--------+-------+----+---------+---------+------+-----------------+----------+-----------+-------+\n",
      "|protocol|service|flag|src_bytes|dst_bytes|urgent|num_failed_logins|root_shell|guest_login|  label|\n",
      "+--------+-------+----+---------+---------+------+-----------------+----------+-----------+-------+\n",
      "|     tcp|   http|  SF|      215|    45076|     0|                0|         0|          0|normal.|\n",
      "|     tcp|   http|  SF|      162|     4528|     0|                0|         0|          0|normal.|\n",
      "|     tcp|   http|  SF|      236|     1228|     0|                0|         0|          0|normal.|\n",
      "|     tcp|   http|  SF|      233|     2032|     0|                0|         0|          0|normal.|\n",
      "|     tcp|   http|  SF|      239|      486|     0|                0|         0|          0|normal.|\n",
      "|     tcp|   http|  SF|      238|     1282|     0|                0|         0|          0|normal.|\n",
      "|     tcp|   http|  SF|      235|     1337|     0|                0|         0|          0|normal.|\n",
      "|     tcp|   http|  SF|      234|     1364|     0|                0|         0|          0|normal.|\n",
      "|     tcp|   http|  SF|      239|     1295|     0|                0|         0|          0|normal.|\n",
      "|     tcp|   http|  SF|      181|     5450|     0|                0|         0|          0|normal.|\n",
      "|     tcp|   http|  SF|      184|      124|     0|                0|         0|          0|normal.|\n",
      "|     tcp|   http|  SF|      185|     9020|     0|                0|         0|          0|normal.|\n",
      "|     tcp|   http|  SF|      239|     1295|     0|                0|         0|          0|normal.|\n",
      "|     tcp|   http|  SF|      181|     5450|     0|                0|         0|          0|normal.|\n",
      "|     tcp|   http|  SF|      236|     1228|     0|                0|         0|          0|normal.|\n",
      "|     tcp|   http|  SF|      233|     2032|     0|                0|         0|          0|normal.|\n",
      "|     tcp|   http|  SF|      238|     1282|     0|                0|         0|          0|normal.|\n",
      "|     tcp|   http|  SF|      235|     1337|     0|                0|         0|          0|normal.|\n",
      "|     tcp|   http|  SF|      234|     1364|     0|                0|         0|          0|normal.|\n",
      "|     tcp|   http|  SF|      239|      486|     0|                0|         0|          0|normal.|\n",
      "+--------+-------+----+---------+---------+------+-----------------+----------+-----------+-------+\n",
      "only showing top 20 rows\n",
      "\n"
     ]
    }
   ],
   "source": [
    "\n",
    "\n",
    "split_col = f.split(df['value'], ',')\n",
    "\n",
    "df = df.withColumn('protocol', split_col.getItem(1))\\\n",
    "       .withColumn('service', split_col.getItem(2))\\\n",
    "       .withColumn('flag', split_col.getItem(3))\\\n",
    "       .withColumn('src_bytes', split_col.getItem(4))\\\n",
    "       .withColumn('dst_bytes', split_col.getItem(5))\\\n",
    "       .withColumn('urgent', split_col.getItem(8))\\\n",
    "       .withColumn('num_failed_logins', split_col.getItem(10))\\\n",
    "       .withColumn('root_shell', split_col.getItem(13))\\\n",
    "       .withColumn('guest_login', split_col.getItem(21))\\\n",
    "       .withColumn('label', split_col.getItem(41))\\\n",
    "       .drop('value') \n",
    "\n",
    "df.show()\n",
    "       "
   ]
  },
  {
   "cell_type": "code",
   "execution_count": 12,
   "metadata": {},
   "outputs": [
    {
     "data": {
      "text/plain": [
       "1"
      ]
     },
     "execution_count": 12,
     "metadata": {},
     "output_type": "execute_result"
    }
   ],
   "source": [
    "df.rdd.getNumPartitions()"
   ]
  },
  {
   "cell_type": "code",
   "execution_count": 13,
   "metadata": {},
   "outputs": [],
   "source": [
    "df = df.repartition(10)"
   ]
  },
  {
   "cell_type": "code",
   "execution_count": 14,
   "metadata": {},
   "outputs": [
    {
     "data": {
      "text/plain": [
       "10"
      ]
     },
     "execution_count": 14,
     "metadata": {},
     "output_type": "execute_result"
    }
   ],
   "source": [
    "df.rdd.getNumPartitions()"
   ]
  },
  {
   "cell_type": "code",
   "execution_count": 15,
   "metadata": {},
   "outputs": [],
   "source": [
    "df.createOrReplaceTempView('d_kdd_cup')"
   ]
  },
  {
   "attachments": {},
   "cell_type": "markdown",
   "metadata": {},
   "source": [
    "### 1. Count number of connections for each label"
   ]
  },
  {
   "cell_type": "code",
   "execution_count": 16,
   "metadata": {},
   "outputs": [
    {
     "name": "stdout",
     "output_type": "stream",
     "text": [
      "+----------------+-------+\n",
      "|           label|  count|\n",
      "+----------------+-------+\n",
      "|          smurf.|2807886|\n",
      "|        neptune.|1072017|\n",
      "|         normal.| 972781|\n",
      "|          satan.|  15892|\n",
      "|        ipsweep.|  12481|\n",
      "|      portsweep.|  10413|\n",
      "|           nmap.|   2316|\n",
      "|           back.|   2203|\n",
      "|    warezclient.|   1020|\n",
      "|       teardrop.|    979|\n",
      "|            pod.|    264|\n",
      "|   guess_passwd.|     53|\n",
      "|buffer_overflow.|     30|\n",
      "|           land.|     21|\n",
      "|    warezmaster.|     20|\n",
      "|           imap.|     12|\n",
      "|        rootkit.|     10|\n",
      "|     loadmodule.|      9|\n",
      "|      ftp_write.|      8|\n",
      "|       multihop.|      7|\n",
      "+----------------+-------+\n",
      "only showing top 20 rows\n",
      "\n"
     ]
    }
   ],
   "source": [
    "df.groupBy('label').count().orderBy('count', ascending=False).show()"
   ]
  },
  {
   "attachments": {},
   "cell_type": "markdown",
   "metadata": {},
   "source": [
    "2. Get the list of `Protocols` that are `normal` and `vulnerable to attacks`, where there is NOT `guest login` to the destination addresses"
   ]
  },
  {
   "cell_type": "code",
   "execution_count": 21,
   "metadata": {},
   "outputs": [
    {
     "name": "stdout",
     "output_type": "stream",
     "text": [
      "+--------+---------+-------+\n",
      "|protocol|    state|   freq|\n",
      "+--------+---------+-------+\n",
      "|     udp|no_attack| 191348|\n",
      "|     udp|   attack|   2940|\n",
      "|     tcp|no_attack| 764894|\n",
      "|     tcp|   attack|1101613|\n",
      "|    icmp|no_attack|  12763|\n",
      "|    icmp|   attack|2820782|\n",
      "+--------+---------+-------+\n",
      "\n"
     ]
    }
   ],
   "source": [
    "query = '''\n",
    "\n",
    "    select protocol,\n",
    "           case label\n",
    "               when 'normal.' then 'no_attack'\n",
    "               else 'attack'\n",
    "            end as state,\n",
    "            count(*) as freq\n",
    "    from    d_kdd_cup\n",
    "    where   guest_login != '1'\n",
    "    group by protocol, \n",
    "             case label\n",
    "               when 'normal.' then 'no_attack'\n",
    "               else 'attack'\n",
    "             end \n",
    "    order by protocol desc\n",
    "\n",
    "'''\n",
    "\n",
    "spark.sql(query).show()\n",
    "\n"
   ]
  },
  {
   "attachments": {},
   "cell_type": "markdown",
   "metadata": {},
   "source": [
    "### 3. Apply Some Descriptive Statistics on Numerical Data"
   ]
  },
  {
   "cell_type": "code",
   "execution_count": 23,
   "metadata": {},
   "outputs": [
    {
     "name": "stdout",
     "output_type": "stream",
     "text": [
      "+------------------+-------------+-------------+---------------+-----------------+------------------+\n",
      "|    mean_src_bytes|min_src_bytes|max_src_bytes|count_src_bytes|    std_src_bytes|    skew_src_bytes|\n",
      "+------------------+-------------+-------------+---------------+-----------------+------------------+\n",
      "|1834.6211752293746|            0|          999|        4898431|941431.0744911298|1188.9519100465736|\n",
      "+------------------+-------------+-------------+---------------+-----------------+------------------+\n",
      "\n"
     ]
    }
   ],
   "source": [
    "summary = df.select(\n",
    "    f.mean(df['src_bytes']).alias('mean_src_bytes'),\n",
    "    f.min(df['src_bytes']).alias('min_src_bytes'),\n",
    "    f.max(df['src_bytes']).alias('max_src_bytes'),\n",
    "    f.count(df['src_bytes']).alias('count_src_bytes'),\n",
    "    f.stddev(df['src_bytes']).alias('std_src_bytes'),\n",
    "    f.skewness(df['src_bytes']).alias('skew_src_bytes')  \n",
    "    )\n",
    "\n",
    "summary.show()"
   ]
  },
  {
   "cell_type": "code",
   "execution_count": 25,
   "metadata": {},
   "outputs": [
    {
     "name": "stdout",
     "output_type": "stream",
     "text": [
      "+--------+-----------------+------------------+\n",
      "|protocol|   avg(src_bytes)| stddev(dst_bytes)|\n",
      "+--------+-----------------+------------------+\n",
      "|     tcp|3388.569965326596|1043771.3100418103|\n",
      "|     udp|97.22772893848308| 55.43318653434132|\n",
      "|    icmp|927.8916893855577|               0.0|\n",
      "+--------+-----------------+------------------+\n",
      "\n"
     ]
    }
   ],
   "source": [
    "df.groupBy('protocol')\\\n",
    "    .agg({\n",
    "        'src_bytes': 'mean',\n",
    "        'dst_bytes': 'stddev'\n",
    "    }).show()"
   ]
  },
  {
   "attachments": {},
   "cell_type": "markdown",
   "metadata": {},
   "source": [
    "### 4. A Descriptive Stats based on `Protocols` and `Labels`"
   ]
  },
  {
   "cell_type": "code",
   "execution_count": 28,
   "metadata": {},
   "outputs": [
    {
     "name": "stdout",
     "output_type": "stream",
     "text": [
      "+--------+---------+----------+--------------+--------------+----------+---------------------+--------------+---------------+\n",
      "|protocol|    state|total_freq|mean_src_bytes|mean_dst_bytes|sum_urgent|sum_num_failed_logins|sum_root_shell|sum_guest_login|\n",
      "+--------+---------+----------+--------------+--------------+----------+---------------------+--------------+---------------+\n",
      "|     tcp|no_attack|    768670|       1844.29|       4071.32|      35.0|                 96.0|         302.0|         3776.0|\n",
      "|     udp|no_attack|    191348|         98.32|         89.41|       0.0|                  0.0|           0.0|            0.0|\n",
      "|     udp|   attack|      2940|          26.4|          0.82|       0.0|                  0.0|           0.0|            0.0|\n",
      "|    icmp|no_attack|     12763|         90.68|           0.0|       0.0|                  0.0|           0.0|            0.0|\n",
      "|     tcp|   attack|   1101928|       4465.81|       2005.96|       4.0|                 61.0|          32.0|          315.0|\n",
      "|    icmp|   attack|   2820782|        931.68|           0.0|       0.0|                  0.0|           0.0|            0.0|\n",
      "+--------+---------+----------+--------------+--------------+----------+---------------------+--------------+---------------+\n",
      "\n"
     ]
    }
   ],
   "source": [
    "query2 = '''\n",
    "\n",
    "    select protocol,\n",
    "        case label\n",
    "            when 'normal.' then 'no_attack'\n",
    "            else 'attack'\n",
    "            end as state,\n",
    "        count(*) as total_freq,\n",
    "        round(avg(src_bytes),2) as mean_src_bytes,\n",
    "        round(avg(dst_bytes),2) as mean_dst_bytes,\n",
    "        sum(urgent) as sum_urgent,\n",
    "        sum(num_failed_logins) as sum_num_failed_logins,\n",
    "        sum(root_shell) as sum_root_shell,\n",
    "        sum(guest_login) as sum_guest_login\n",
    "    from d_kdd_cup\n",
    "    group by protocol, state\n",
    "\n",
    "'''\n",
    "\n",
    "spark.sql(query2).show()"
   ]
  },
  {
   "attachments": {},
   "cell_type": "markdown",
   "metadata": {},
   "source": [
    "### 5. Get the frquency of `services` for the original `UDP and ICMP` based `attacks`\n",
    "(original attacks: `[dos, u2r, r2l, probe]`)\n",
    "\n",
    "(returns `services` and `protocols` center justified)"
   ]
  },
  {
   "cell_type": "code",
   "execution_count": 33,
   "metadata": {},
   "outputs": [
    {
     "name": "stdout",
     "output_type": "stream",
     "text": [
      "+----------+----------+--------------+-------+\n",
      "|   service|  protocol|original_label|   freq|\n",
      "+----------+----------+--------------+-------+\n",
      "|  ecr_i   |   icmp   |           DoS|2808145|\n",
      "|  eco_i   |   icmp   |         probs|  12570|\n",
      "| private  |   udp    |         probs|   1688|\n",
      "| private  |   udp    |           DoS|    979|\n",
      "|  other   |   udp    |         probs|    261|\n",
      "|  ecr_i   |   icmp   |         probs|     59|\n",
      "| domain_u |   udp    |         probs|      9|\n",
      "|  tim_i   |   icmp   |           DoS|      5|\n",
      "|  other   |   udp    |           U2R|      3|\n",
      "|  urp_i   |   icmp   |         probs|      3|\n",
      "+----------+----------+--------------+-------+\n",
      "\n"
     ]
    }
   ],
   "source": [
    "from pyspark.sql.types import StringType\n",
    "\n",
    "def attack_category(conn):\n",
    "    conn = conn.replace('.','')\n",
    "    if conn in ['back', 'land', 'neptune', 'pod', 'smurf', 'teardrop']:\n",
    "        return 'DoS'\n",
    "    elif conn in ['buffer_overflow', 'load_module', 'perl', 'rootkit']:\n",
    "        return 'U2R'\n",
    "    elif conn in ['ftp_write', 'guess_password', 'multihop', 'phf', 'spy', 'warezclient', 'warezmaster']:\n",
    "        return 'R2L'\n",
    "    else:\n",
    "        return 'probs'\n",
    "\n",
    "def center_justify(item):\n",
    "    return item.center(10)\n",
    "\n",
    "spark.udf.register('get_original_attack', attack_category, StringType())\n",
    "spark.udf.register('center_justify', center_justify, StringType())\n",
    "\n",
    "query3 = '''\n",
    "\n",
    "    select center_justify(service) as service,\n",
    "           center_justify(protocol) as protocol,\n",
    "           get_original_attack(label) as original_label,\n",
    "           count(*) as freq\n",
    "           from d_kdd_cup\n",
    "           where protocol in ('udp', 'icmp')\n",
    "           and label != 'normal.'\n",
    "           group by service, original_label, protocol\n",
    "           order by freq desc\n",
    "\n",
    "'''\n",
    "\n",
    "spark.sql(query3).show()"
   ]
  },
  {
   "cell_type": "code",
   "execution_count": null,
   "metadata": {},
   "outputs": [],
   "source": []
  }
 ],
 "metadata": {
  "kernelspec": {
   "display_name": "menv",
   "language": "python",
   "name": "python3"
  },
  "language_info": {
   "codemirror_mode": {
    "name": "ipython",
    "version": 3
   },
   "file_extension": ".py",
   "mimetype": "text/x-python",
   "name": "python",
   "nbconvert_exporter": "python",
   "pygments_lexer": "ipython3",
   "version": "3.6.8"
  },
  "orig_nbformat": 4,
  "vscode": {
   "interpreter": {
    "hash": "4b785a0a06e2d7a312a57a7dba8bbee97b75bb74680ea935274a48dc11f29425"
   }
  }
 },
 "nbformat": 4,
 "nbformat_minor": 2
}
