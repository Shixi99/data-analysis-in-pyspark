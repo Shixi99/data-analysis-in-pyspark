{
 "cells": [
  {
   "cell_type": "code",
   "execution_count": 1,
   "metadata": {},
   "outputs": [
    {
     "data": {
      "text/html": [
       "\n",
       "        <div>\n",
       "            <p><b>SparkContext</b></p>\n",
       "\n",
       "            <p><a href=\"http://Shixi-KK46BQG:4040\">Spark UI</a></p>\n",
       "\n",
       "            <dl>\n",
       "              <dt>Version</dt>\n",
       "                <dd><code>v2.3.1</code></dd>\n",
       "              <dt>Master</dt>\n",
       "                <dd><code>local[*]</code></dd>\n",
       "              <dt>AppName</dt>\n",
       "                <dd><code>Working with DF</code></dd>\n",
       "            </dl>\n",
       "        </div>\n",
       "        "
      ],
      "text/plain": [
       "<SparkContext master=local[*] appName=Working with DF>"
      ]
     },
     "execution_count": 1,
     "metadata": {},
     "output_type": "execute_result"
    }
   ],
   "source": [
    "import findspark\n",
    "findspark.init()\n",
    "import pyspark\n",
    "from pyspark.sql import SparkSession\n",
    "from pyspark.conf import SparkConf\n",
    "from pyspark import SparkContext\n",
    "\n",
    "conf = SparkConf()\\\n",
    "    .setMaster(\"local[*]\")\\\n",
    "    .setAppName(\"Working with DF\")\\\n",
    "    .setExecutorEnv(\"spark.driver.memory\",\"2g\")\\\n",
    "    .setExecutorEnv(\"spark.executor.memory\",\"4g\")\n",
    "\n",
    "spark = SparkSession\\\n",
    "    .builder\\\n",
    "    .config(conf=conf)\\\n",
    "    .getOrCreate()\n",
    "\n",
    "sc = spark.sparkContext\n",
    "sc"
   ]
  },
  {
   "cell_type": "code",
   "execution_count": 1,
   "metadata": {},
   "outputs": [],
   "source": [
    "##### data source: http://kdd.ics.uci.edu/databases/kddcup99/kddcup99.html"
   ]
  },
  {
   "cell_type": "code",
   "execution_count": 2,
   "metadata": {},
   "outputs": [],
   "source": [
    "rdd = sc.textFile('data\\kddcup.data.gz')"
   ]
  },
  {
   "cell_type": "code",
   "execution_count": 3,
   "metadata": {},
   "outputs": [
    {
     "name": "stdout",
     "output_type": "stream",
     "text": [
      "Number of partitions: 1\n"
     ]
    }
   ],
   "source": [
    "print('Number of partitions:', rdd.getNumPartitions())\n",
    "\n",
    "# spark consider this file as small file"
   ]
  },
  {
   "cell_type": "code",
   "execution_count": 4,
   "metadata": {},
   "outputs": [
    {
     "data": {
      "text/plain": [
       "4898431"
      ]
     },
     "execution_count": 4,
     "metadata": {},
     "output_type": "execute_result"
    }
   ],
   "source": [
    "rdd.count()\n",
    "# as we see data is not small"
   ]
  },
  {
   "cell_type": "code",
   "execution_count": 4,
   "metadata": {},
   "outputs": [],
   "source": [
    "#  let's repartiton it to increase number of partitions\n",
    "rdd = rdd.repartition(10) # shuffle all data\n",
    "print(rdd.count())"
   ]
  },
  {
   "cell_type": "code",
   "execution_count": 5,
   "metadata": {},
   "outputs": [
    {
     "name": "stdout",
     "output_type": "stream",
     "text": [
      "Number of partitions: 10\n",
      "Default parallelism: 16\n"
     ]
    }
   ],
   "source": [
    "print('Number of partitions:', rdd.getNumPartitions())\n",
    "print('Default parallelism:', sc.defaultParallelism)"
   ]
  },
  {
   "attachments": {},
   "cell_type": "markdown",
   "metadata": {},
   "source": [
    "### 1. Get 10 records randomly"
   ]
  },
  {
   "cell_type": "code",
   "execution_count": 8,
   "metadata": {},
   "outputs": [
    {
     "data": {
      "text/plain": [
       "['0,icmp,ecr_i,SF,1032,0,0,0,0,0,0,0,0,0,0,0,0,0,0,0,0,0,511,511,0.00,0.00,0.00,0.00,1.00,0.00,0.00,255,255,1.00,0.00,1.00,0.00,0.00,0.00,0.00,0.00,smurf.',\n",
       " '0,icmp,ecr_i,SF,1032,0,0,0,0,0,0,0,0,0,0,0,0,0,0,0,0,0,511,511,0.00,0.00,0.00,0.00,1.00,0.00,0.00,255,255,1.00,0.00,1.00,0.00,0.00,0.00,0.00,0.00,smurf.',\n",
       " '0,tcp,private,S0,0,0,0,0,0,0,0,0,0,0,0,0,0,0,0,0,0,0,258,16,1.00,1.00,0.00,0.00,0.06,0.06,0.00,255,16,0.06,0.07,0.00,0.00,1.00,1.00,0.00,0.00,neptune.',\n",
       " '0,tcp,private,S0,0,0,0,0,0,0,0,0,0,0,0,0,0,0,0,0,0,0,112,9,1.00,1.00,0.00,0.00,0.08,0.06,0.00,255,9,0.04,0.06,0.00,0.00,1.00,1.00,0.00,0.00,neptune.',\n",
       " '0,icmp,ecr_i,SF,1032,0,0,0,0,0,0,0,0,0,0,0,0,0,0,0,0,0,511,511,0.00,0.00,0.00,0.00,1.00,0.00,0.00,255,255,1.00,0.00,1.00,0.00,0.00,0.00,0.00,0.00,smurf.',\n",
       " '0,tcp,private,S0,0,0,0,0,0,0,0,0,0,0,0,0,0,0,0,0,0,0,202,2,1.00,1.00,0.00,0.00,0.01,0.05,0.00,255,2,0.01,0.06,0.00,0.00,1.00,1.00,0.00,0.00,neptune.',\n",
       " '0,tcp,private,S0,0,0,0,0,0,0,0,0,0,0,0,0,0,0,0,0,0,0,246,20,1.00,1.00,0.00,0.00,0.08,0.07,0.00,255,20,0.08,0.08,0.00,0.00,1.00,1.00,0.00,0.00,neptune.',\n",
       " '0,icmp,ecr_i,SF,520,0,0,0,0,0,0,0,0,0,0,0,0,0,0,0,0,0,483,483,0.00,0.00,0.00,0.00,1.00,0.00,0.00,255,255,1.00,0.00,1.00,0.00,0.00,0.00,0.00,0.00,smurf.',\n",
       " '0,tcp,http,SF,282,2205,0,0,0,0,0,1,0,0,0,0,0,0,0,0,0,0,4,4,0.00,0.00,0.00,0.00,1.00,0.00,0.00,77,255,1.00,0.00,0.01,0.04,0.00,0.00,0.00,0.00,normal.',\n",
       " '0,tcp,smtp,S0,0,0,0,0,0,0,0,0,0,0,0,0,0,0,0,0,0,0,199,1,1.00,1.00,0.00,0.00,0.01,0.07,0.00,255,9,0.04,0.07,0.00,0.00,1.00,1.00,0.00,0.00,neptune.']"
      ]
     },
     "execution_count": 8,
     "metadata": {},
     "output_type": "execute_result"
    }
   ],
   "source": [
    "rdd.takeSample(withReplacement=False, num=10, seed=42)\n",
    "\n",
    "# This method should only be used if the resulting array is expected to be small, as all the data is loaded into the driver’s memory."
   ]
  },
  {
   "attachments": {},
   "cell_type": "markdown",
   "metadata": {},
   "source": [
    "### 2. Number of records"
   ]
  },
  {
   "cell_type": "code",
   "execution_count": 9,
   "metadata": {},
   "outputs": [
    {
     "data": {
      "text/plain": [
       "4898431"
      ]
     },
     "execution_count": 9,
     "metadata": {},
     "output_type": "execute_result"
    }
   ],
   "source": [
    "rdd.count()"
   ]
  },
  {
   "attachments": {},
   "cell_type": "markdown",
   "metadata": {},
   "source": [
    "### 3. Ratio of normal connections"
   ]
  },
  {
   "cell_type": "code",
   "execution_count": 11,
   "metadata": {},
   "outputs": [
    {
     "name": "stdout",
     "output_type": "stream",
     "text": [
      "The ratio of normal connections is 19.86 %\n"
     ]
    }
   ],
   "source": [
    "normal_rdd = rdd.filter(lambda line: 'normal' in line)\n",
    "\n",
    "ratio = normal_rdd.count() / rdd.count()\n",
    "\n",
    "print(f'The ratio of normal connections is {round(ratio,4)*100} %')"
   ]
  },
  {
   "attachments": {},
   "cell_type": "markdown",
   "metadata": {},
   "source": [
    "### 4. Get the list of labels. "
   ]
  },
  {
   "cell_type": "code",
   "execution_count": 13,
   "metadata": {},
   "outputs": [
    {
     "name": "stdout",
     "output_type": "stream",
     "text": [
      "Labels: ['neptune.', 'loadmodule.', 'warezclient.', 'pod.', 'smurf.', 'nmap.', 'spy.', 'back.', 'teardrop.', 'ipsweep.', 'multihop.', 'phf.', 'ftp_write.', 'guess_passwd.', 'normal.', 'land.', 'satan.', 'imap.', 'portsweep.', 'warezmaster.', 'rootkit.', 'buffer_overflow.', 'perl.']\n"
     ]
    }
   ],
   "source": [
    "split_rdd = rdd.map(lambda line: line.split(','))\n",
    "label_rdd = split_rdd.map(lambda x: x[-1]).distinct()\n",
    "\n",
    "print(f'Labels: {label_rdd.collect()}')\n",
    "\n"
   ]
  },
  {
   "attachments": {},
   "cell_type": "markdown",
   "metadata": {},
   "source": [
    "### 5. Get number of connections per label"
   ]
  },
  {
   "cell_type": "code",
   "execution_count": 25,
   "metadata": {},
   "outputs": [
    {
     "name": "stdout",
     "output_type": "stream",
     "text": [
      "[('neptune.', 1072017), ('loadmodule.', 9), ('warezclient.', 1020), ('pod.', 264), ('smurf.', 2807886), ('nmap.', 2316), ('spy.', 2), ('back.', 2203), ('teardrop.', 979), ('ipsweep.', 12481), ('multihop.', 7), ('phf.', 4), ('ftp_write.', 8), ('guess_passwd.', 53), ('normal.', 972781), ('land.', 21), ('satan.', 15892), ('imap.', 12), ('portsweep.', 10413), ('warezmaster.', 20), ('rootkit.', 10), ('buffer_overflow.', 30), ('perl.', 3)]\n"
     ]
    }
   ],
   "source": [
    "rdd_split = rdd.map(lambda line: line.split(','))\n",
    "rdd_kv = rdd_split.map(lambda x: (x[-1],1))\n",
    "rdd_rbk = rdd_kv.reduceByKey(lambda x, y: x+y)\n",
    "\n",
    "print(rdd_rbk.collect())"
   ]
  },
  {
   "cell_type": "code",
   "execution_count": 37,
   "metadata": {},
   "outputs": [
    {
     "data": {
      "text/html": [
       "<div>\n",
       "<style scoped>\n",
       "    .dataframe tbody tr th:only-of-type {\n",
       "        vertical-align: middle;\n",
       "    }\n",
       "\n",
       "    .dataframe tbody tr th {\n",
       "        vertical-align: top;\n",
       "    }\n",
       "\n",
       "    .dataframe thead th {\n",
       "        text-align: right;\n",
       "    }\n",
       "</style>\n",
       "<table border=\"1\" class=\"dataframe\">\n",
       "  <thead>\n",
       "    <tr style=\"text-align: right;\">\n",
       "      <th></th>\n",
       "      <th>label</th>\n",
       "      <th>count</th>\n",
       "    </tr>\n",
       "  </thead>\n",
       "  <tbody>\n",
       "    <tr>\n",
       "      <th>4</th>\n",
       "      <td>smurf.</td>\n",
       "      <td>2807886</td>\n",
       "    </tr>\n",
       "    <tr>\n",
       "      <th>0</th>\n",
       "      <td>neptune.</td>\n",
       "      <td>1072017</td>\n",
       "    </tr>\n",
       "    <tr>\n",
       "      <th>14</th>\n",
       "      <td>normal.</td>\n",
       "      <td>972781</td>\n",
       "    </tr>\n",
       "    <tr>\n",
       "      <th>16</th>\n",
       "      <td>satan.</td>\n",
       "      <td>15892</td>\n",
       "    </tr>\n",
       "    <tr>\n",
       "      <th>9</th>\n",
       "      <td>ipsweep.</td>\n",
       "      <td>12481</td>\n",
       "    </tr>\n",
       "    <tr>\n",
       "      <th>18</th>\n",
       "      <td>portsweep.</td>\n",
       "      <td>10413</td>\n",
       "    </tr>\n",
       "    <tr>\n",
       "      <th>5</th>\n",
       "      <td>nmap.</td>\n",
       "      <td>2316</td>\n",
       "    </tr>\n",
       "    <tr>\n",
       "      <th>7</th>\n",
       "      <td>back.</td>\n",
       "      <td>2203</td>\n",
       "    </tr>\n",
       "    <tr>\n",
       "      <th>2</th>\n",
       "      <td>warezclient.</td>\n",
       "      <td>1020</td>\n",
       "    </tr>\n",
       "    <tr>\n",
       "      <th>8</th>\n",
       "      <td>teardrop.</td>\n",
       "      <td>979</td>\n",
       "    </tr>\n",
       "    <tr>\n",
       "      <th>3</th>\n",
       "      <td>pod.</td>\n",
       "      <td>264</td>\n",
       "    </tr>\n",
       "    <tr>\n",
       "      <th>13</th>\n",
       "      <td>guess_passwd.</td>\n",
       "      <td>53</td>\n",
       "    </tr>\n",
       "    <tr>\n",
       "      <th>21</th>\n",
       "      <td>buffer_overflow.</td>\n",
       "      <td>30</td>\n",
       "    </tr>\n",
       "    <tr>\n",
       "      <th>15</th>\n",
       "      <td>land.</td>\n",
       "      <td>21</td>\n",
       "    </tr>\n",
       "    <tr>\n",
       "      <th>19</th>\n",
       "      <td>warezmaster.</td>\n",
       "      <td>20</td>\n",
       "    </tr>\n",
       "    <tr>\n",
       "      <th>17</th>\n",
       "      <td>imap.</td>\n",
       "      <td>12</td>\n",
       "    </tr>\n",
       "    <tr>\n",
       "      <th>20</th>\n",
       "      <td>rootkit.</td>\n",
       "      <td>10</td>\n",
       "    </tr>\n",
       "    <tr>\n",
       "      <th>1</th>\n",
       "      <td>loadmodule.</td>\n",
       "      <td>9</td>\n",
       "    </tr>\n",
       "    <tr>\n",
       "      <th>12</th>\n",
       "      <td>ftp_write.</td>\n",
       "      <td>8</td>\n",
       "    </tr>\n",
       "    <tr>\n",
       "      <th>10</th>\n",
       "      <td>multihop.</td>\n",
       "      <td>7</td>\n",
       "    </tr>\n",
       "    <tr>\n",
       "      <th>11</th>\n",
       "      <td>phf.</td>\n",
       "      <td>4</td>\n",
       "    </tr>\n",
       "    <tr>\n",
       "      <th>22</th>\n",
       "      <td>perl.</td>\n",
       "      <td>3</td>\n",
       "    </tr>\n",
       "    <tr>\n",
       "      <th>6</th>\n",
       "      <td>spy.</td>\n",
       "      <td>2</td>\n",
       "    </tr>\n",
       "  </tbody>\n",
       "</table>\n",
       "</div>"
      ],
      "text/plain": [
       "               label    count\n",
       "4             smurf.  2807886\n",
       "0           neptune.  1072017\n",
       "14           normal.   972781\n",
       "16            satan.    15892\n",
       "9           ipsweep.    12481\n",
       "18        portsweep.    10413\n",
       "5              nmap.     2316\n",
       "7              back.     2203\n",
       "2       warezclient.     1020\n",
       "8          teardrop.      979\n",
       "3               pod.      264\n",
       "13     guess_passwd.       53\n",
       "21  buffer_overflow.       30\n",
       "15             land.       21\n",
       "19      warezmaster.       20\n",
       "17             imap.       12\n",
       "20          rootkit.       10\n",
       "1        loadmodule.        9\n",
       "12        ftp_write.        8\n",
       "10         multihop.        7\n",
       "11              phf.        4\n",
       "22             perl.        3\n",
       "6               spy.        2"
      ]
     },
     "execution_count": 37,
     "metadata": {},
     "output_type": "execute_result"
    }
   ],
   "source": [
    "import pandas as pd\n",
    "\n",
    "label_pivot_df = pd.DataFrame({\n",
    "    'label': rdd_rbk.keys().collect(),\n",
    "    'count': rdd_rbk.values().collect()\n",
    "})\n",
    "\n",
    "label_pivot_df.sort_values(by=['count'], ascending=False)"
   ]
  },
  {
   "cell_type": "code",
   "execution_count": 32,
   "metadata": {},
   "outputs": [
    {
     "data": {
      "text/plain": [
       "[('smurf.', 2807886),\n",
       " ('neptune.', 1072017),\n",
       " ('normal.', 972781),\n",
       " ('satan.', 15892),\n",
       " ('ipsweep.', 12481),\n",
       " ('portsweep.', 10413),\n",
       " ('nmap.', 2316),\n",
       " ('back.', 2203),\n",
       " ('warezclient.', 1020),\n",
       " ('teardrop.', 979),\n",
       " ('pod.', 264),\n",
       " ('guess_passwd.', 53),\n",
       " ('buffer_overflow.', 30),\n",
       " ('land.', 21),\n",
       " ('warezmaster.', 20),\n",
       " ('imap.', 12),\n",
       " ('rootkit.', 10),\n",
       " ('loadmodule.', 9),\n",
       " ('ftp_write.', 8),\n",
       " ('multihop.', 7),\n",
       " ('phf.', 4),\n",
       " ('perl.', 3),\n",
       " ('spy.', 2)]"
      ]
     },
     "execution_count": 32,
     "metadata": {},
     "output_type": "execute_result"
    }
   ],
   "source": [
    "rdd \\\n",
    "    .map(lambda line: line.split(',')) \\\n",
    "    .map(lambda x: (x[-1], 1)) \\\n",
    "    .reduceByKey(lambda x, y: x + y) \\\n",
    "    .sortBy(lambda x: x[1], ascending=False) \\\n",
    "    .collect()"
   ]
  },
  {
   "attachments": {},
   "cell_type": "markdown",
   "metadata": {},
   "source": [
    "### 6. Get the connection type with successful `root_shell` connections to servers, where the number of data bytes from source (`src_bytes`) is 500 times more than from server (`dst_bytes`)"
   ]
  },
  {
   "cell_type": "code",
   "execution_count": 46,
   "metadata": {},
   "outputs": [
    {
     "data": {
      "text/plain": [
       "[('tcp', '353', '759161'),\n",
       " ('tcp', '433', '1524348'),\n",
       " ('tcp', '296', '507534'),\n",
       " ('tcp', '296', '507534'),\n",
       " ('tcp', '246', '866032'),\n",
       " ('tcp', '317', '394616'),\n",
       " ('tcp', '262', '744605'),\n",
       " ('tcp', '173', '744605'),\n",
       " ('tcp', '224', '2776333'),\n",
       " ('tcp', '262', '744605'),\n",
       " ('tcp', '0', '2072'),\n",
       " ('tcp', '351', '759161'),\n",
       " ('tcp', '1794', '3851730'),\n",
       " ('tcp', '465', '320362'),\n",
       " ('tcp', '0', '2072'),\n",
       " ('tcp', '0', '2072'),\n",
       " ('tcp', '296', '507534'),\n",
       " ('tcp', '266', '507534'),\n",
       " ('tcp', '255', '574784'),\n",
       " ('tcp', '0', '2072')]"
      ]
     },
     "execution_count": 46,
     "metadata": {},
     "output_type": "execute_result"
    }
   ],
   "source": [
    "rdd.map(lambda line: line.split(','))\\\n",
    "    .filter(lambda x: x[13] == '1')\\\n",
    "    .map(lambda x: (x[1],x[4],x[5]))\\\n",
    "    .filter(lambda x: int(x[2]) > int(x[1]) * 500)\\\n",
    "    .collect()"
   ]
  },
  {
   "attachments": {},
   "cell_type": "markdown",
   "metadata": {},
   "source": [
    "### 7.  Get the list of `Protocols` that are `normal` and `vulnerable to attacks`, where there is NOT `guest login` to the destination addresses"
   ]
  },
  {
   "cell_type": "code",
   "execution_count": 7,
   "metadata": {},
   "outputs": [
    {
     "data": {
      "text/html": [
       "<div>\n",
       "<style scoped>\n",
       "    .dataframe tbody tr th:only-of-type {\n",
       "        vertical-align: middle;\n",
       "    }\n",
       "\n",
       "    .dataframe tbody tr th {\n",
       "        vertical-align: top;\n",
       "    }\n",
       "\n",
       "    .dataframe thead th {\n",
       "        text-align: right;\n",
       "    }\n",
       "</style>\n",
       "<table border=\"1\" class=\"dataframe\">\n",
       "  <thead>\n",
       "    <tr style=\"text-align: right;\">\n",
       "      <th></th>\n",
       "      <th>label</th>\n",
       "      <th>state</th>\n",
       "      <th>count</th>\n",
       "    </tr>\n",
       "  </thead>\n",
       "  <tbody>\n",
       "    <tr>\n",
       "      <th>1</th>\n",
       "      <td>udp</td>\n",
       "      <td>normal</td>\n",
       "      <td>191348</td>\n",
       "    </tr>\n",
       "    <tr>\n",
       "      <th>1</th>\n",
       "      <td>udp</td>\n",
       "      <td>attack</td>\n",
       "      <td>2940</td>\n",
       "    </tr>\n",
       "    <tr>\n",
       "      <th>2</th>\n",
       "      <td>tcp</td>\n",
       "      <td>attack</td>\n",
       "      <td>1101613</td>\n",
       "    </tr>\n",
       "    <tr>\n",
       "      <th>2</th>\n",
       "      <td>tcp</td>\n",
       "      <td>normal</td>\n",
       "      <td>764894</td>\n",
       "    </tr>\n",
       "    <tr>\n",
       "      <th>0</th>\n",
       "      <td>icmp</td>\n",
       "      <td>attack</td>\n",
       "      <td>2820782</td>\n",
       "    </tr>\n",
       "    <tr>\n",
       "      <th>0</th>\n",
       "      <td>icmp</td>\n",
       "      <td>normal</td>\n",
       "      <td>12763</td>\n",
       "    </tr>\n",
       "  </tbody>\n",
       "</table>\n",
       "</div>"
      ],
      "text/plain": [
       "  label   state    count\n",
       "1   udp  normal   191348\n",
       "1   udp  attack     2940\n",
       "2   tcp  attack  1101613\n",
       "2   tcp  normal   764894\n",
       "0  icmp  attack  2820782\n",
       "0  icmp  normal    12763"
      ]
     },
     "execution_count": 7,
     "metadata": {},
     "output_type": "execute_result"
    }
   ],
   "source": [
    "normal_protocols_rdd = \\\n",
    "    rdd\\\n",
    "        .map(lambda line: line.split(','))\\\n",
    "        .filter(lambda line: 'normal' in line[-1] and line[21] != '1')\\\n",
    "        .map(lambda line: (line[1], 1))\\\n",
    "        .reduceByKey(lambda x, y: x + y)\n",
    "\n",
    "attack_protocols_rdd = \\\n",
    "    rdd\\\n",
    "        .map(lambda line: line.split(','))\\\n",
    "        .filter(lambda line: 'normal' not in line[-1] and line[21] != '1')\\\n",
    "        .map(lambda line: (line[1], 1))\\\n",
    "        .reduceByKey(lambda x, y: x + y)\n",
    "\n",
    "import pandas as pd\n",
    "\n",
    "normal_protocols_df = pd.DataFrame({\n",
    "    'label': normal_protocols_rdd.keys().collect(),\n",
    "    'state': 'normal',\n",
    "    'count': normal_protocols_rdd.values().collect()\n",
    "})\n",
    "\n",
    "attack_protocols_df = pd.DataFrame({\n",
    "    'label': attack_protocols_rdd.keys().collect(),\n",
    "    'state': 'attack',\n",
    "    'count': attack_protocols_rdd.values().collect()\n",
    "})\n",
    "\n",
    "normal_and_attacked_merged_df = pd.concat([normal_protocols_df, attack_protocols_df])\n",
    "normal_and_attacked_merged_df.sort_values(by=['label','count'], ascending=False)"
   ]
  },
  {
   "attachments": {},
   "cell_type": "markdown",
   "metadata": {},
   "source": [
    "## 8. Get a summary statistics for the sum of `tcp` connections to the same destination IP address (`protocol_type` and `dst_host_count` features)"
   ]
  },
  {
   "cell_type": "code",
   "execution_count": 14,
   "metadata": {},
   "outputs": [
    {
     "name": "stdout",
     "output_type": "stream",
     "text": [
      "201.75 1870598.0 0.0 255.0 91\n"
     ]
    }
   ],
   "source": [
    "from pyspark.mllib.stat import Statistics\n",
    "from math import sqrt\n",
    "\n",
    "stat_rdd = \\\n",
    "    rdd \\\n",
    "        .map(lambda x: x.split(','))\\\n",
    "        .filter(lambda x: x[1] == 'tcp')\\\n",
    "        .map(lambda x: [int(x[31])])\n",
    "\n",
    "summary = Statistics.colStats(stat_rdd)\n",
    "\n",
    "tcp_mean  = round(float(summary.mean()),2)\n",
    "tcp_count = round(float(summary.count()),2)\n",
    "tcp_min   = round(float(summary.min()),2)\n",
    "tcp_max   = round(float(summary.max()),2)\n",
    "tcp_std   = round(float(sqrt(summary.variance())))\n",
    "\n",
    "print(tcp_mean, tcp_count, tcp_min, tcp_max, tcp_std)\n"
   ]
  },
  {
   "attachments": {},
   "cell_type": "markdown",
   "metadata": {},
   "source": [
    "### 9. Filter the number of `icmp`-based attacks for each `service`"
   ]
  },
  {
   "cell_type": "code",
   "execution_count": 19,
   "metadata": {},
   "outputs": [
    {
     "data": {
      "text/plain": [
       "[('urp_i', 3), ('tim_i', 5), ('eco_i', 12570), ('ecr_i', 2808204)]"
      ]
     },
     "execution_count": 19,
     "metadata": {},
     "output_type": "execute_result"
    }
   ],
   "source": [
    "rdd \\\n",
    "    .map(lambda x: x.split(','))\\\n",
    "    .filter(lambda x: x[1] == 'icmp' and 'normal' not in x[-1])\\\n",
    "    .map(lambda x: (x[2], 1))\\\n",
    "    .reduceByKey(lambda x, y: x + y)\\\n",
    "    .sortBy(lambda x: x[1])\\\n",
    "    .collect()\n"
   ]
  },
  {
   "cell_type": "code",
   "execution_count": null,
   "metadata": {},
   "outputs": [],
   "source": []
  }
 ],
 "metadata": {
  "kernelspec": {
   "display_name": "menv",
   "language": "python",
   "name": "python3"
  },
  "language_info": {
   "codemirror_mode": {
    "name": "ipython",
    "version": 3
   },
   "file_extension": ".py",
   "mimetype": "text/x-python",
   "name": "python",
   "nbconvert_exporter": "python",
   "pygments_lexer": "ipython3",
   "version": "3.6.8"
  },
  "orig_nbformat": 4,
  "vscode": {
   "interpreter": {
    "hash": "4b785a0a06e2d7a312a57a7dba8bbee97b75bb74680ea935274a48dc11f29425"
   }
  }
 },
 "nbformat": 4,
 "nbformat_minor": 2
}
