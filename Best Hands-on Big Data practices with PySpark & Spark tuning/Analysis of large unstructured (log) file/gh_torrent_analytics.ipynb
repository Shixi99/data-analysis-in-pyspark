{
 "cells": [
  {
   "cell_type": "code",
   "execution_count": 142,
   "metadata": {},
   "outputs": [
    {
     "data": {
      "text/html": [
       "\n",
       "        <div>\n",
       "            <p><b>SparkContext</b></p>\n",
       "\n",
       "            <p><a href=\"http://Shixi-KK46BQG:4040\">Spark UI</a></p>\n",
       "\n",
       "            <dl>\n",
       "              <dt>Version</dt>\n",
       "                <dd><code>v2.3.1</code></dd>\n",
       "              <dt>Master</dt>\n",
       "                <dd><code>local[*]</code></dd>\n",
       "              <dt>AppName</dt>\n",
       "                <dd><code>GHTorrent Analytics</code></dd>\n",
       "            </dl>\n",
       "        </div>\n",
       "        "
      ],
      "text/plain": [
       "<SparkContext master=local[*] appName=GHTorrent Analytics>"
      ]
     },
     "execution_count": 142,
     "metadata": {},
     "output_type": "execute_result"
    }
   ],
   "source": [
    "import findspark\n",
    "findspark.init()\n",
    "import pyspark\n",
    "from pyspark.sql import SparkSession\n",
    "from pyspark.conf import SparkConf\n",
    "from pyspark import SparkContext\n",
    "\n",
    "conf = SparkConf()\\\n",
    "    .setMaster(\"local[*]\")\\\n",
    "    .setAppName(\"GHTorrent Analytics\")\\\n",
    "    .setExecutorEnv(\"spark.driver.memory\",\"2g\")\\\n",
    "    .setExecutorEnv(\"spark.executor.memory\",\"4g\")\n",
    "\n",
    "spark = SparkSession\\\n",
    "    .builder\\\n",
    "    .config(conf=conf)\\\n",
    "    .getOrCreate()\n",
    "\n",
    "sc = spark.sparkContext\n",
    "sc"
   ]
  },
  {
   "cell_type": "code",
   "execution_count": 143,
   "metadata": {},
   "outputs": [
    {
     "name": "stdout",
     "output_type": "stream",
     "text": [
      "Default parallelism: {sc.defaultParallelism}\n"
     ]
    }
   ],
   "source": [
    "print('Default parallelism: {sc.defaultParallelism}')"
   ]
  },
  {
   "cell_type": "code",
   "execution_count": 1,
   "metadata": {},
   "outputs": [],
   "source": [
    "#### data source https://ghtorrent.org/downloads.html"
   ]
  },
  {
   "cell_type": "code",
   "execution_count": 144,
   "metadata": {},
   "outputs": [],
   "source": [
    "rdd = sc.textFile('ghtorrent-logs.txt.gz')"
   ]
  },
  {
   "cell_type": "code",
   "execution_count": 12,
   "metadata": {},
   "outputs": [
    {
     "name": "stdout",
     "output_type": "stream",
     "text": [
      "1\n"
     ]
    }
   ],
   "source": [
    "print(rdd.getNumPartitions())"
   ]
  },
  {
   "cell_type": "code",
   "execution_count": 145,
   "metadata": {},
   "outputs": [],
   "source": [
    "# we need to increase number of partitions\n",
    "\n",
    "rdd = rdd.repartition(8)"
   ]
  },
  {
   "cell_type": "code",
   "execution_count": 146,
   "metadata": {},
   "outputs": [
    {
     "name": "stdout",
     "output_type": "stream",
     "text": [
      "8\n"
     ]
    }
   ],
   "source": [
    "print(rdd.getNumPartitions())"
   ]
  },
  {
   "attachments": {},
   "cell_type": "markdown",
   "metadata": {},
   "source": [
    "### 1. Count the number of records and get 20 records randomly."
   ]
  },
  {
   "cell_type": "code",
   "execution_count": 82,
   "metadata": {},
   "outputs": [
    {
     "name": "stdout",
     "output_type": "stream",
     "text": [
      "9669788\n"
     ]
    }
   ],
   "source": [
    "print(rdd.count())"
   ]
  },
  {
   "cell_type": "code",
   "execution_count": 18,
   "metadata": {},
   "outputs": [
    {
     "data": {
      "text/plain": [
       "['DEBUG, 2017-03-23T09:20:00+00:00, ghtorrent-22 -- ghtorrent.rb: User astor76 exists',\n",
       " 'DEBUG, 2017-03-24T12:52:34+00:00, ghtorrent-48 -- retriever.rb: Commit TelematicaTesteo6JK/ejercicio-1-cnunez9 -> 5b6b4fa034b0741a34774a4e55582bcb3529644d exists',\n",
       " 'INFO, 2017-03-23T10:32:53+00:00, ghtorrent-9 -- ghtorrent.rb: Added issue_event HTBox/allReady -> 1929/HTBox/allReady -> 1929/1008256243',\n",
       " 'DEBUG, 2017-03-23T11:24:39+00:00, ghtorrent-29 -- retriever.rb: Commit metakgp/mfqp -> 33b920c888347fb96ac144cf825620cd253e64e2 exists',\n",
       " 'DEBUG, 2017-03-23T11:17:59+00:00, ghtorrent-6 -- ghtorrent.rb: Transaction committed (12 ms)',\n",
       " 'INFO, 2017-03-23T13:16:00+00:00, ghtorrent-2 -- ghtorrent.rb: Added commit_assoc of 28ffe198bfab3761f97ce2f74ef479bafc5bbd99 with Nitrogen-CAF/android_frameworks_native',\n",
       " 'DEBUG, 2017-03-23T09:23:47+00:00, ghtorrent-39 -- retriever.rb: Commit nvanbenschoten/cockroach -> eacc2ea06107956ab358ce5ebbb6275d50c7b862 exists',\n",
       " 'INFO, 2017-03-23T10:29:16+00:00, ghtorrent-43 -- ghtorrent.rb: Added issue_comment stevedonovan/gentle-intro -> 14/288033441',\n",
       " 'DEBUG, 2017-03-23T11:07:58+00:00, ghtorrent-29 -- ghtorrent.rb: User tao2581 exists',\n",
       " 'DEBUG, 2017-03-23T20:09:37+00:00, ghtorrent-21 -- api_client.rb: Sleeping for 3063 seconds',\n",
       " 'DEBUG, 2017-03-23T09:02:21+00:00, ghtorrent-4 -- retriever.rb: Commit tuhulihongbing/OCRmyPDF -> 7acfaf6d3476b43683d3cf63adcb414749fcc384 exists',\n",
       " 'INFO, 2017-03-23T12:11:46+00:00, ghtorrent-18 -- api_client.rb: Successful request. URL: https://api.github.com/repos/ramirirv/nexus-book-examples/forks?page=1&per_page=100, Remaining: 909, Total: 62 ms',\n",
       " 'DEBUG, 2017-03-23T11:27:24+00:00, ghtorrent-29 -- ghtorrent.rb: Parent 5dea1bc73c0be0d5ba9f88fc70207283d1bea781 for commit 062f3f80ef034463d3bfa24e044a007c59837edb exists',\n",
       " 'DEBUG, 2017-03-23T09:25:03+00:00, ghtorrent-9 -- retriever.rb: Commit PX-Cloudy/vine -> 64c1968960fa31075c01b26adcb3c01d9cb6cca8 exists',\n",
       " 'DEBUG, 2017-03-23T09:15:37+00:00, ghtorrent-37 -- ghtorrent.rb: Repo apache/spark exists',\n",
       " 'DEBUG, 2017-03-23T10:35:21+00:00, ghtorrent-12 -- retriever.rb: Commit lieblb/ILIAS -> 98dc64e8c2f6fc89fb049405935049b23db22fe3 exists',\n",
       " 'DEBUG, 2017-03-23T11:08:38+00:00, ghtorrent-1 -- ghtorrent.rb: Transaction committed (94 ms)',\n",
       " 'WARN, 2017-03-23T21:02:01+00:00, ghtorrent-13 -- api_client.rb: Failed request. URL: https://api.github.com/repos/greatfakeman/Tabchi/commits?sha=Tabchi&per_page=100, Status code: 404, Status: Not Found, Access: ac6168f8776, IP: 0.0.0.0, Remaining: 4115',\n",
       " 'DEBUG, 2017-03-23T12:00:32+00:00, ghtorrent-42 -- retriever.rb: Commit Chickyky/job_board -> 3f020669074fce0a3d99f84948457e29f6bf8a9c exists',\n",
       " 'DEBUG, 2017-03-23T11:08:15+00:00, ghtorrent-7 -- ghtorrent.rb: User zlm731 exists']"
      ]
     },
     "execution_count": 18,
     "metadata": {},
     "output_type": "execute_result"
    }
   ],
   "source": [
    "rdd.takeSample(withReplacement=False, num=20, seed=42)"
   ]
  },
  {
   "attachments": {},
   "cell_type": "markdown",
   "metadata": {},
   "source": [
    "## **GHTorrent data format**\n",
    "Every line of this log file includes:\n",
    "1.   Logging level, one of `DEBUG`, `INFO`, `WARN`, `ERROR`\n",
    "2.   A timestamp\n",
    "3.   The downloader id\n",
    "4.   The logging stage including at least one of the following names:\n",
    "       - `event_processing`\n",
    "       - `ght_data_retrieval`\n",
    "       - `api_client`\n",
    "       - `retriever`\n",
    "       - `ghtorrent`"
   ]
  },
  {
   "attachments": {},
   "cell_type": "markdown",
   "metadata": {},
   "source": [
    "### 2. Get the number of lines with both `Transaction` or `Repo` information."
   ]
  },
  {
   "cell_type": "code",
   "execution_count": 148,
   "metadata": {},
   "outputs": [
    {
     "name": "stdout",
     "output_type": "stream",
     "text": [
      "['hello', 'world']\n"
     ]
    }
   ],
   "source": [
    "import re\n",
    "\n",
    "# \\w returns a match where the string contains any word characters \n",
    "# (characters from a to Z, digits from 0-9, and the underscore _ character)\n",
    "# + is one or more occurrences\n",
    "\n",
    "\n",
    "def collect_words(line):\n",
    "    return re.compile('\\w+').findall(line.lower())\n",
    "\n",
    "print(collect_words('Hello.worlD!, '))"
   ]
  },
  {
   "cell_type": "code",
   "execution_count": 41,
   "metadata": {},
   "outputs": [],
   "source": [
    "rdd_transaction = \\\n",
    "    rdd\\\n",
    "        .filter(lambda line: 'transaction' in collect_words(line))\n",
    "\n",
    "rdd_repo= \\\n",
    "    rdd\\\n",
    "        .filter(lambda line: 'repo' in collect_words(line))"
   ]
  },
  {
   "cell_type": "code",
   "execution_count": 42,
   "metadata": {},
   "outputs": [],
   "source": [
    "rdd_intersect = rdd_transaction.intersection(rdd_repo)"
   ]
  },
  {
   "cell_type": "code",
   "execution_count": 51,
   "metadata": {},
   "outputs": [],
   "source": [
    "# rdd_intersect.take(4)"
   ]
  },
  {
   "cell_type": "code",
   "execution_count": 45,
   "metadata": {},
   "outputs": [
    {
     "data": {
      "text/plain": [
       "43"
      ]
     },
     "execution_count": 45,
     "metadata": {},
     "output_type": "execute_result"
    }
   ],
   "source": [
    "rdd_transaction_repo = \\\n",
    "    rdd\\\n",
    "        .filter(lambda line: 'transaction' in collect_words(line))\\\n",
    "        .filter(lambda line: 'repo' in collect_words(line))\n",
    "\n",
    "rdd_transaction_repo.count()"
   ]
  },
  {
   "cell_type": "code",
   "execution_count": 46,
   "metadata": {},
   "outputs": [
    {
     "data": {
      "text/plain": [
       "['DEBUG, 2017-03-23T09:13:17+00:00, ghtorrent-9 -- ghtorrent.rb: Repo xuminwlt/tcc-transaction exists',\n",
       " 'DEBUG, 2017-03-23T09:26:01+00:00, ghtorrent-11 -- ghtorrent.rb: Repo jwpttcg66/redis-game-transaction exists',\n",
       " 'DEBUG, 2017-03-23T09:26:01+00:00, ghtorrent-11 -- ghtorrent.rb: Repo jwpttcg66/redis-game-transaction exists',\n",
       " 'DEBUG, 2017-03-23T09:13:16+00:00, ghtorrent-9 -- ghtorrent.rb: Repo xuminwlt/tcc-transaction exists',\n",
       " 'DEBUG, 2017-03-23T09:26:01+00:00, ghtorrent-11 -- ghtorrent.rb: Repo jwpttcg66/redis-game-transaction exists',\n",
       " 'DEBUG, 2017-03-23T09:13:28+00:00, ghtorrent-9 -- ghtorrent.rb: Repo xuminwlt/tcc-transaction exists',\n",
       " 'DEBUG, 2017-03-23T09:13:27+00:00, ghtorrent-9 -- ghtorrent.rb: Repo xuminwlt/tcc-transaction exists',\n",
       " 'DEBUG, 2017-03-23T09:26:01+00:00, ghtorrent-11 -- ghtorrent.rb: Repo jwpttcg66/redis-game-transaction exists',\n",
       " 'DEBUG, 2017-03-23T10:28:03+00:00, ghtorrent-33 -- ghtorrent.rb: Repo jwpttcg66/redis-game-transaction exists',\n",
       " 'DEBUG, 2017-03-23T09:13:26+00:00, ghtorrent-9 -- ghtorrent.rb: Association of commit 5793a7df39a26b46082cafb59f287e2dc2cf9796 with repo xuminwlt/tcc-transaction exists',\n",
       " 'DEBUG, 2017-03-23T09:13:26+00:00, ghtorrent-9 -- ghtorrent.rb: Repo xuminwlt/tcc-transaction exists',\n",
       " 'DEBUG, 2017-03-23T09:13:27+00:00, ghtorrent-9 -- ghtorrent.rb: Repo xuminwlt/tcc-transaction exists',\n",
       " 'INFO, 2017-03-23T09:13:17+00:00, ghtorrent-9 -- ghtorrent.rb: Repo xuminwlt/tcc-transaction was forked at changmingxie/tcc-transaction:5793a7df39a26b46082cafb59f287e2dc2cf9796',\n",
       " 'DEBUG, 2017-03-23T09:13:27+00:00, ghtorrent-9 -- ghtorrent.rb: Repo xuminwlt/tcc-transaction exists',\n",
       " 'DEBUG, 2017-03-23T09:13:17+00:00, ghtorrent-9 -- ghtorrent.rb: Repo xuminwlt/tcc-transaction exists',\n",
       " 'INFO, 2017-03-23T09:13:17+00:00, ghtorrent-9 -- ghtorrent.rb: Added repo xuminwlt/tcc-transaction',\n",
       " 'DEBUG, 2017-03-23T09:13:26+00:00, ghtorrent-9 -- ghtorrent.rb: Repo xuminwlt/tcc-transaction exists',\n",
       " 'DEBUG, 2017-03-23T09:13:17+00:00, ghtorrent-9 -- ghtorrent.rb: Repo changmingxie/tcc-transaction exists',\n",
       " 'DEBUG, 2017-03-23T09:13:16+00:00, ghtorrent-9 -- ghtorrent.rb: Repo changmingxie/tcc-transaction exists',\n",
       " 'DEBUG, 2017-03-23T09:26:01+00:00, ghtorrent-11 -- ghtorrent.rb: Repo jwpttcg66/redis-game-transaction exists',\n",
       " 'DEBUG, 2017-03-23T09:13:17+00:00, ghtorrent-9 -- ghtorrent.rb: Repo xuminwlt/tcc-transaction exists',\n",
       " 'DEBUG, 2017-03-23T09:13:17+00:00, ghtorrent-9 -- retriever.rb: Repo changmingxie -> tcc-transaction exists',\n",
       " 'DEBUG, 2017-03-23T09:26:01+00:00, ghtorrent-11 -- ghtorrent.rb: Repo jwpttcg66/redis-game-transaction exists',\n",
       " 'DEBUG, 2017-03-23T09:13:27+00:00, ghtorrent-9 -- ghtorrent.rb: Repo xuminwlt/tcc-transaction exists',\n",
       " 'DEBUG, 2017-03-23T09:13:26+00:00, ghtorrent-9 -- ghtorrent.rb: Repo xuminwlt/tcc-transaction exists',\n",
       " 'DEBUG, 2017-03-23T09:13:17+00:00, ghtorrent-9 -- retriever.rb: Repo changmingxie -> tcc-transaction exists',\n",
       " 'DEBUG, 2017-03-23T09:13:27+00:00, ghtorrent-9 -- ghtorrent.rb: Repo xuminwlt/tcc-transaction exists',\n",
       " 'INFO, 2017-03-23T09:13:16+00:00, ghtorrent-9 -- ghtorrent.rb: Repo xuminwlt/tcc-transaction is a fork of changmingxie/tcc-transaction',\n",
       " 'DEBUG, 2017-03-23T09:13:27+00:00, ghtorrent-9 -- ghtorrent.rb: Repo xuminwlt/tcc-transaction exists',\n",
       " 'DEBUG, 2017-03-23T09:13:27+00:00, ghtorrent-9 -- ghtorrent.rb: Repo xuminwlt/tcc-transaction exists',\n",
       " 'DEBUG, 2017-03-23T09:13:27+00:00, ghtorrent-9 -- ghtorrent.rb: Repo xuminwlt/tcc-transaction exists',\n",
       " 'INFO, 2017-03-23T09:13:16+00:00, ghtorrent-9 -- retriever.rb: Added repo xuminwlt -> tcc-transaction',\n",
       " 'DEBUG, 2017-03-23T09:27:31+00:00, ghtorrent-24 -- ghtorrent.rb: Repo changmingxie/tcc-transaction exists',\n",
       " 'DEBUG, 2017-03-23T11:09:37+00:00, ghtorrent-1 -- ghtorrent.rb: Repo pilkyoon/spring-transaction exists',\n",
       " 'DEBUG, 2017-03-23T09:13:17+00:00, ghtorrent-9 -- ghtorrent.rb: Repo xuminwlt/tcc-transaction exists',\n",
       " 'DEBUG, 2017-03-23T09:13:17+00:00, ghtorrent-9 -- ghtorrent.rb: Repo xuminwlt/tcc-transaction exists',\n",
       " 'DEBUG, 2017-03-23T09:13:17+00:00, ghtorrent-9 -- retriever.rb: Repo xuminwlt -> tcc-transaction exists',\n",
       " 'DEBUG, 2017-03-23T09:26:01+00:00, ghtorrent-11 -- ghtorrent.rb: Repo jwpttcg66/redis-game-transaction exists',\n",
       " 'DEBUG, 2017-03-23T09:13:28+00:00, ghtorrent-9 -- ghtorrent.rb: Repo xuminwlt/tcc-transaction exists',\n",
       " 'DEBUG, 2017-03-23T13:03:33+00:00, ghtorrent-42 -- ghtorrent.rb: Repo jwpttcg66/redis-game-transaction exists',\n",
       " 'DEBUG, 2017-03-23T09:13:27+00:00, ghtorrent-9 -- ghtorrent.rb: Repo xuminwlt/tcc-transaction exists',\n",
       " 'DEBUG, 2017-03-23T09:26:01+00:00, ghtorrent-11 -- ghtorrent.rb: Repo jwpttcg66/redis-game-transaction exists',\n",
       " 'DEBUG, 2017-03-23T09:13:27+00:00, ghtorrent-9 -- ghtorrent.rb: Repo xuminwlt/tcc-transaction exists']"
      ]
     },
     "execution_count": 46,
     "metadata": {},
     "output_type": "execute_result"
    }
   ],
   "source": [
    "rdd_transaction_repo.collect()"
   ]
  },
  {
   "attachments": {},
   "cell_type": "markdown",
   "metadata": {},
   "source": [
    "### 3. Get the number of lines including `web link` for `WARN` logging levels."
   ]
  },
  {
   "cell_type": "code",
   "execution_count": 147,
   "metadata": {},
   "outputs": [
    {
     "data": {
      "text/plain": [
       "['https://example.com.az.ho']"
      ]
     },
     "execution_count": 147,
     "metadata": {},
     "output_type": "execute_result"
    }
   ],
   "source": [
    "def get_url(line):\n",
    "    return re.findall(r'http[s]?://(?:[-\\w.]|(?:%[\\da-zA-z]{2,}))+', line)\n",
    "\n",
    "o='jnljkj lklk lkm --- https://example.com.az.ho///bkjbk/lknlk7789'\n",
    "get_url(o)"
   ]
  },
  {
   "cell_type": "code",
   "execution_count": 114,
   "metadata": {},
   "outputs": [
    {
     "name": "stdout",
     "output_type": "stream",
     "text": [
      "57\n"
     ]
    }
   ],
   "source": [
    "warn_url_rdd = \\\n",
    "rdd\\\n",
    "    .filter(lambda line: line.split(',')[0] == 'WARN')\\\n",
    "    .filter(lambda line: len(get_url(line)) > 1)\n",
    "\n",
    "print(warn_url_rdd.count())"
   ]
  },
  {
   "cell_type": "code",
   "execution_count": 115,
   "metadata": {},
   "outputs": [
    {
     "data": {
      "text/plain": [
       "['WARN, 2017-03-23T12:07:29+00:00, ghtorrent-18 -- api_client.rb: Failed request. URL: https://api.github.com/repos/wordpress-mobile/WordPress-iOS/labels/[Pri]%20Blocking, Exception: bad URI(is not URI?): https://api.github.com/repos/wordpress-mobile/WordPress-iOS/labels/[Pri]%20Blocking, Access: 2776f3ba0a5, IP: 0.0.0.0, Remaining: 1970',\n",
       " 'WARN, 2017-03-22T20:14:51+00:00, ghtorrent-11 -- ghtorrent.rb: Extracted email(https://darmagedon@github.com) not valid for user darmagedon<https://darmagedon@github.com>',\n",
       " 'WARN, 2017-03-23T13:00:25+00:00, ghtorrent-35 -- api_client.rb: Failed request. URL: https://api.github.com/repos/wordpress-mobile/WordPress-Android/labels/[Pri]%20Blocking, Exception: bad URI(is not URI?): https://api.github.com/repos/wordpress-mobile/WordPress-Android/labels/[Pri]%20Blocking, Access: 6d5ed163707, IP: 0.0.0.0, Remaining: 4997',\n",
       " 'WARN, 2017-03-23T09:25:48+00:00, ghtorrent-6 -- api_client.rb: Failed request. URL: https://api.github.com/repos/wordpress-mobile/WordPress-Android/labels/[Pri]%20Blocking, Exception: bad URI(is not URI?): https://api.github.com/repos/wordpress-mobile/WordPress-Android/labels/[Pri]%20Blocking, Access: 78e09e3bff3, IP: 0.0.0.0, Remaining: 567',\n",
       " 'WARN, 2017-03-22T20:14:51+00:00, ghtorrent-11 -- ghtorrent.rb: Extracted email(https://darmagedon@github.com) not valid for user darmagedon<https://darmagedon@github.com>',\n",
       " 'WARN, 2017-03-24T13:03:14+00:00, ghtorrent-50 -- api_client.rb: Failed request. URL: https://api.github.com/repos/Automattic/jetpack/labels/[Pri]%20BLOCKER, Exception: bad URI(is not URI?): https://api.github.com/repos/Automattic/jetpack/labels/[Pri]%20BLOCKER, Access: b5599cbe622, IP: 0.0.0.0, Remaining: 1054',\n",
       " 'WARN, 2017-03-23T11:17:58+00:00, ghtorrent-37 -- api_client.rb: Failed request. URL: https://api.github.com/repos/wordpress-mobile/WordPress-Android/labels/[Pri]%20Blocking, Exception: bad URI(is not URI?): https://api.github.com/repos/wordpress-mobile/WordPress-Android/labels/[Pri]%20Blocking, Access: b20d823440e, IP: 0.0.0.0, Remaining: 1704',\n",
       " 'WARN, 2017-03-23T13:02:14+00:00, ghtorrent-20 -- api_client.rb: Failed request. URL: https://api.github.com/repos/wordpress-mobile/WordPress-iOS/labels/[Pri]%20Blocking, Exception: bad URI(is not URI?): https://api.github.com/repos/wordpress-mobile/WordPress-iOS/labels/[Pri]%20Blocking, Access: 0f3c3c966eb, IP: 0.0.0.0, Remaining: 4711',\n",
       " 'WARN, 2017-03-23T10:24:07+00:00, ghtorrent-16 -- api_client.rb: Failed request. URL: https://api.github.com/repos/Automattic/jetpack/labels/[Pri]%20BLOCKER, Exception: bad URI(is not URI?): https://api.github.com/repos/Automattic/jetpack/labels/[Pri]%20BLOCKER, Access: 300c31bbf93, IP: 0.0.0.0, Remaining: 1954',\n",
       " 'WARN, 2017-03-23T10:32:08+00:00, ghtorrent-36 -- api_client.rb: Failed request. URL: https://api.github.com/repos/Automattic/jetpack/labels/[Pri]%20BLOCKER, Exception: bad URI(is not URI?): https://api.github.com/repos/Automattic/jetpack/labels/[Pri]%20BLOCKER, Access: 6fb607b9e73, IP: 0.0.0.0, Remaining: 1439']"
      ]
     },
     "execution_count": 115,
     "metadata": {},
     "output_type": "execute_result"
    }
   ],
   "source": [
    "warn_url_rdd.take(10)"
   ]
  },
  {
   "attachments": {},
   "cell_type": "markdown",
   "metadata": {},
   "source": [
    "### 4. What is the most active `downloader id` for `Failed` connections?"
   ]
  },
  {
   "cell_type": "code",
   "execution_count": 129,
   "metadata": {},
   "outputs": [
    {
     "data": {
      "text/plain": [
       "[('13 ', 79654),\n",
       " ('21 ', 2710),\n",
       " ('40 ', 1231),\n",
       " ('25 ', 505),\n",
       " ('9 ', 501),\n",
       " ('18 ', 495),\n",
       " ('11 ', 471),\n",
       " ('42 ', 465),\n",
       " ('6 ', 453),\n",
       " ('4 ', 452)]"
      ]
     },
     "execution_count": 129,
     "metadata": {},
     "output_type": "execute_result"
    }
   ],
   "source": [
    "rdd_failed = \\\n",
    "    rdd.filter(lambda line: 'failed' in collect_words(line))\n",
    "\n",
    "rdd_active_downloader_rdd = \\\n",
    "    rdd_failed.map(lambda line: (line.replace('--',',')\n",
    "                                    .split(',')[2]\n",
    "                                    .split('-')[1]\n",
    "                                    , 1))\n",
    "\n",
    "rdd_active_downloader_rdd.take(5)\n",
    "\n",
    "rdd_active_downloader_rdd \\\n",
    "    .reduceByKey(lambda x, y: x+y) \\\n",
    "    .sortBy(lambda x: x[1], ascending=False)\\\n",
    "    .take(10)"
   ]
  },
  {
   "attachments": {},
   "cell_type": "markdown",
   "metadata": {},
   "source": [
    "### 5. What is the most active `repository`?"
   ]
  },
  {
   "cell_type": "code",
   "execution_count": 133,
   "metadata": {},
   "outputs": [
    {
     "data": {
      "text/plain": [
       "['DEBUG, 2017-03-23T11:15:38+00:00, ghtorrent-17 -- ghtorrent.rb: Repo roncodes/ember-intl-tel-input exists',\n",
       " 'DEBUG, 2017-03-23T09:23:23+00:00, ghtorrent-39 -- ghtorrent.rb: Repo inabil/unix exists',\n",
       " 'DEBUG, 2017-03-23T10:09:12+00:00, ghtorrent-26 -- ghtorrent.rb: Repo WangWei90/dolfin exists',\n",
       " 'DEBUG, 2017-03-23T09:08:20+00:00, ghtorrent-17 -- ghtorrent.rb: Repo kidjp85/graphql-apollo-blog exists',\n",
       " 'DEBUG, 2017-03-24T12:54:52+00:00, ghtorrent-46 -- ghtorrent.rb: Repo mgmagueye/magueyendiaye exists']"
      ]
     },
     "execution_count": 133,
     "metadata": {},
     "output_type": "execute_result"
    }
   ],
   "source": [
    "def collect_words2(line):\n",
    "    return re.compile(' \\w+ ').findall(line.lower())\n",
    "\n",
    "rdd.filter(lambda line: \" repo \" in collect_words2(line)).take(5)"
   ]
  },
  {
   "cell_type": "code",
   "execution_count": 137,
   "metadata": {},
   "outputs": [
    {
     "data": {
      "text/plain": [
       "[('ovyx/hammerheadn', 22447),\n",
       " ('mithro/chromium-infra', 17033),\n",
       " ('lieblb/ilias', 14216),\n",
       " ('nitrogen-caf/android_system_core', 10186),\n",
       " ('winxdroid/android_build', 9535),\n",
       " ('gpkvt/ilias', 9408),\n",
       " ('nitrogen-caf/android_packages_apps_dialer', 8022),\n",
       " ('nitrogen-caf/android_system_extras', 7414),\n",
       " ('jorgeomarmh/edx', 6286),\n",
       " ('nitrogen-caf/android_frameworks_opt_telephony', 5873)]"
      ]
     },
     "execution_count": 137,
     "metadata": {},
     "output_type": "execute_result"
    }
   ],
   "source": [
    "rdd.filter(lambda line: \" repo \" in collect_words(line))\\\n",
    "    .map(lambda line: line.lower().split('repo')[1].split(' ')[1])\\\n",
    "    .map(lambda x: (x, 1))\\\n",
    "    .reduceByKey(lambda x, y: x + y)\\\n",
    "    .sortBy(lambda x: x[1], ascending=False)\\\n",
    "    .take(10)"
   ]
  },
  {
   "attachments": {},
   "cell_type": "markdown",
   "metadata": {},
   "source": [
    "### 6. Get the number of `Failed HTTP`requests per `hour`."
   ]
  },
  {
   "cell_type": "code",
   "execution_count": 152,
   "metadata": {},
   "outputs": [
    {
     "data": {
      "text/plain": [
       "[('11', 10567),\n",
       " ('10', 9991),\n",
       " ('12', 7500),\n",
       " ('20', 5772),\n",
       " ('13', 5712),\n",
       " ('09', 5325),\n",
       " ('14', 5144),\n",
       " ('22', 5092),\n",
       " ('19', 5092),\n",
       " ('21', 5091),\n",
       " ('16', 5090),\n",
       " ('18', 5090),\n",
       " ('17', 5090),\n",
       " ('15', 5090),\n",
       " ('00', 5088),\n",
       " ('23', 5088),\n",
       " ('01', 5088),\n",
       " ('08', 100),\n",
       " ('04', 100),\n",
       " ('05', 100),\n",
       " ('07', 100),\n",
       " ('02', 98),\n",
       " ('06', 98),\n",
       " ('03', 98)]"
      ]
     },
     "execution_count": 152,
     "metadata": {},
     "output_type": "execute_result"
    }
   ],
   "source": [
    "import re\n",
    "\n",
    "# \\w returns a match where the string contains any word characters \n",
    "# (characters from a to Z, digits from 0-9, and the underscore _ character)\n",
    "# + is one or more occurrences\n",
    "\n",
    "\n",
    "def collect_words(line):\n",
    "    return re.compile('\\w+').findall(line.lower())\n",
    "\n",
    "rdd_failed = \\\n",
    "    rdd.filter(lambda line: 'failed' in collect_words(line))\n",
    "\n",
    "rdd_failed\\\n",
    "    .map(lambda line: line.split(',')[1].split('T')[1].split('+')[0].split(':')[0])\\\n",
    "    .map(lambda x: (x, 1))\\\n",
    "    .reduceByKey(lambda x, y: x + y)\\\n",
    "    .sortBy(lambda x: x[1], ascending=False)\\\n",
    "    .collect()"
   ]
  },
  {
   "cell_type": "code",
   "execution_count": null,
   "metadata": {},
   "outputs": [],
   "source": []
  }
 ],
 "metadata": {
  "kernelspec": {
   "display_name": "menv",
   "language": "python",
   "name": "python3"
  },
  "language_info": {
   "codemirror_mode": {
    "name": "ipython",
    "version": 3
   },
   "file_extension": ".py",
   "mimetype": "text/x-python",
   "name": "python",
   "nbconvert_exporter": "python",
   "pygments_lexer": "ipython3",
   "version": "3.6.8"
  },
  "orig_nbformat": 4,
  "vscode": {
   "interpreter": {
    "hash": "4b785a0a06e2d7a312a57a7dba8bbee97b75bb74680ea935274a48dc11f29425"
   }
  }
 },
 "nbformat": 4,
 "nbformat_minor": 2
}
