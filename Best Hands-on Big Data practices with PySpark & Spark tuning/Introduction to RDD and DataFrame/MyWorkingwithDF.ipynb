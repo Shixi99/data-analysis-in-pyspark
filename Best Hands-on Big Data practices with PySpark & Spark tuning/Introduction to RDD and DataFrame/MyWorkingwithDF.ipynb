{
  "cells": [
    {
      "cell_type": "markdown",
      "metadata": {
        "id": "hEhSn8RAkufS"
      },
      "source": [
        "### Download pyspark module"
      ]
    },
    {
      "cell_type": "code",
      "execution_count": null,
      "metadata": {
        "id": "BZyL1YT7aq0W"
      },
      "outputs": [],
      "source": [
        "# !pip3 install pyspark"
      ]
    },
    {
      "cell_type": "markdown",
      "metadata": {
        "id": "C4KTgflJk03X"
      },
      "source": [
        "### Create spark session object"
      ]
    },
    {
      "cell_type": "code",
      "execution_count": 1,
      "metadata": {
        "colab": {
          "base_uri": "https://localhost:8080/",
          "height": 222
        },
        "id": "uchyda5ua_FW",
        "outputId": "62cf4eae-7955-4066-bf6c-a2cad85c2407"
      },
      "outputs": [
        {
          "data": {
            "text/html": [
              "\n",
              "            <div>\n",
              "                <p><b>SparkSession - in-memory</b></p>\n",
              "                \n",
              "        <div>\n",
              "            <p><b>SparkContext</b></p>\n",
              "\n",
              "            <p><a href=\"http://Shixi-KK46BQG:4042\">Spark UI</a></p>\n",
              "\n",
              "            <dl>\n",
              "              <dt>Version</dt>\n",
              "                <dd><code>v2.3.1</code></dd>\n",
              "              <dt>Master</dt>\n",
              "                <dd><code>local[*]</code></dd>\n",
              "              <dt>AppName</dt>\n",
              "                <dd><code>Working with DF</code></dd>\n",
              "            </dl>\n",
              "        </div>\n",
              "        \n",
              "            </div>\n",
              "        "
            ],
            "text/plain": [
              "<pyspark.sql.session.SparkSession at 0x1e009ae65f8>"
            ]
          },
          "execution_count": 1,
          "metadata": {},
          "output_type": "execute_result"
        }
      ],
      "source": [
        "import findspark\n",
        "findspark.init()\n",
        "import pyspark\n",
        "from pyspark.sql import SparkSession\n",
        "from pyspark.conf import SparkConf\n",
        "from pyspark import SparkContext\n",
        "\n",
        "conf = SparkConf()\\\n",
        "    .setMaster(\"local[*]\")\\\n",
        "    .setAppName(\"Working with DF\")\\\n",
        "    .setExecutorEnv(\"spark.driver.memory\",\"2g\")\\\n",
        "    .setExecutorEnv(\"spark.executor.memory\",\"4g\")\n",
        "\n",
        "spark = SparkSession\\\n",
        "    .builder\\\n",
        "    .config(conf=conf)\\\n",
        "    .getOrCreate()\n",
        "spark"
      ]
    },
    {
      "attachments": {},
      "cell_type": "markdown",
      "metadata": {
        "id": "8Wm8XnGYlMxC"
      },
      "source": [
        "### Download data from kaggle (only in COLAB)"
      ]
    },
    {
      "cell_type": "code",
      "execution_count": 4,
      "metadata": {
        "colab": {
          "base_uri": "https://localhost:8080/",
          "height": 92
        },
        "id": "mpGwYR1FfQ-L",
        "outputId": "1083f93e-3bf3-44e9-f6d5-397d1264eeb7"
      },
      "outputs": [],
      "source": [
        "! pip install -q kaggle\n",
        "from google.colab import files\n",
        "files.upload()"
      ]
    },
    {
      "cell_type": "code",
      "execution_count": 5,
      "metadata": {
        "id": "ON6-ih3UgGSL"
      },
      "outputs": [
        {
          "name": "stderr",
          "output_type": "stream",
          "text": [
            "The syntax of the command is incorrect.\n",
            "'cp' is not recognized as an internal or external command,\n",
            "operable program or batch file.\n"
          ]
        }
      ],
      "source": [
        "! mkdir ~/.kaggle\n",
        "! cp kaggle.json ~/.kaggle/kaggle.json"
      ]
    },
    {
      "cell_type": "code",
      "execution_count": null,
      "metadata": {
        "id": "WhzuGwOWgaNg"
      },
      "outputs": [],
      "source": [
        "! chmod 600 ~/.kaggle/kaggle.json"
      ]
    },
    {
      "cell_type": "code",
      "execution_count": null,
      "metadata": {
        "colab": {
          "base_uri": "https://localhost:8080/"
        },
        "id": "ZX9zb-GvgkzG",
        "outputId": "3b0db40e-b9d5-42d2-cb50-9a76faa802a7"
      },
      "outputs": [
        {
          "name": "stdout",
          "output_type": "stream",
          "text": [
            "usage: kaggle\n",
            "       [-h]\n",
            "       [-v]\n",
            "       {competitions,c,datasets,d,kernels,k,config}\n",
            "       ...\n",
            "kaggle: error: argument command: invalid choice: 'dataset' (choose from 'competitions', 'c', 'datasets', 'd', 'kernels', 'k', 'config')\n"
          ]
        }
      ],
      "source": [
        "! kaggle dataset list"
      ]
    },
    {
      "cell_type": "code",
      "execution_count": null,
      "metadata": {
        "colab": {
          "base_uri": "https://localhost:8080/"
        },
        "id": "NTQ7KnaAgn_g",
        "outputId": "607690ae-76cb-410e-a39d-96fd9827d6cb"
      },
      "outputs": [
        {
          "name": "stdout",
          "output_type": "stream",
          "text": [
            "Downloading fifa-18-demo-player-dataset.zip to /content\n",
            "\r  0% 0.00/3.82M [00:00<?, ?B/s]\n",
            "\r100% 3.82M/3.82M [00:00<00:00, 193MB/s]\n"
          ]
        }
      ],
      "source": [
        "! kaggle datasets download -d 'thec03u5/fifa-18-demo-player-dataset'"
      ]
    },
    {
      "cell_type": "code",
      "execution_count": null,
      "metadata": {
        "colab": {
          "base_uri": "https://localhost:8080/"
        },
        "id": "ExvMAePGgz92",
        "outputId": "57bef4d7-e08a-42c7-f036-93baaa44d891"
      },
      "outputs": [
        {
          "name": "stdout",
          "output_type": "stream",
          "text": [
            "Archive:  fifa-18-demo-player-dataset.zip\n",
            "  inflating: CompleteDataset.csv     \n",
            "  inflating: PlayerAttributeData.csv  \n",
            "  inflating: PlayerPersonalData.csv  \n",
            "  inflating: PlayerPlayingPositionData.csv  \n"
          ]
        }
      ],
      "source": [
        "! unzip fifa-18-demo-player-dataset.zip"
      ]
    },
    {
      "cell_type": "markdown",
      "metadata": {
        "id": "_O8ogDgalRNr"
      },
      "source": [
        "## Part 1: Create DF and Basic Operations"
      ]
    },
    {
      "cell_type": "code",
      "execution_count": 6,
      "metadata": {
        "id": "i6__iu_tkE0D"
      },
      "outputs": [],
      "source": [
        "df1 = spark\\\n",
        "    .read\\\n",
        "    .format('csv')\\\n",
        "    .load('CompleteDataset.csv',\n",
        "        inferschema=True,\n",
        "        header=True)"
      ]
    },
    {
      "cell_type": "code",
      "execution_count": 7,
      "metadata": {
        "colab": {
          "base_uri": "https://localhost:8080/"
        },
        "id": "0EMD_tcDkdvA",
        "outputId": "d29ab9db-edbf-4e99-8076-9a7fbf3b86a1"
      },
      "outputs": [
        {
          "name": "stdout",
          "output_type": "stream",
          "text": [
            "+---+-----------------+---+--------------------+-----------+--------------------+-------+---------+-------------------+--------------------+------+-----+-------+------------+----------+-------+-------+------------+---------+--------+-----+---------+---------+------------------+---------+-----------+----------+--------------+-----------+----------------+-------------+-------+------------+----------+-------+---------+-----------+---------+-------------+----------+--------------+------------+-------+---------------+--------+------+-------+----+----+----+----+----+------+----+----+----+----+----+----+----+----+----+----+-------------------+----+----+----+----+----+----+----+----+----+----+----+\n",
            "|_c0|             Name|Age|               Photo|Nationality|                Flag|Overall|Potential|               Club|           Club Logo| Value| Wage|Special|Acceleration|Aggression|Agility|Balance|Ball control|Composure|Crossing|Curve|Dribbling|Finishing|Free kick accuracy|GK diving|GK handling|GK kicking|GK positioning|GK reflexes|Heading accuracy|Interceptions|Jumping|Long passing|Long shots|Marking|Penalties|Positioning|Reactions|Short passing|Shot power|Sliding tackle|Sprint speed|Stamina|Standing tackle|Strength|Vision|Volleys| CAM|  CB| CDM|  CF|  CM|    ID| LAM|  LB| LCB| LCM| LDM|  LF|  LM|  LS|  LW| LWB|Preferred Positions| RAM|  RB| RCB| RCM| RDM|  RF|  RM|  RS|  RW| RWB|  ST|\n",
            "+---+-----------------+---+--------------------+-----------+--------------------+-------+---------+-------------------+--------------------+------+-----+-------+------------+----------+-------+-------+------------+---------+--------+-----+---------+---------+------------------+---------+-----------+----------+--------------+-----------+----------------+-------------+-------+------------+----------+-------+---------+-----------+---------+-------------+----------+--------------+------------+-------+---------------+--------+------+-------+----+----+----+----+----+------+----+----+----+----+----+----+----+----+----+----+-------------------+----+----+----+----+----+----+----+----+----+----+----+\n",
            "|  0|Cristiano Ronaldo| 32|https://cdn.sofif...|   Portugal|https://cdn.sofif...|     94|       94|     Real Madrid CF|https://cdn.sofif...|€95.5M|€565K|   2228|          89|        63|     89|     63|          93|       95|      85|   81|       91|       94|                76|        7|         11|        15|            14|         11|              88|           29|     95|          77|        92|     22|       85|         95|       96|           83|        94|            23|          91|     92|             31|      80|    85|     88|89.0|53.0|62.0|91.0|82.0| 20801|89.0|61.0|53.0|82.0|62.0|91.0|89.0|92.0|91.0|66.0|             ST LW |89.0|61.0|53.0|82.0|62.0|91.0|89.0|92.0|91.0|66.0|92.0|\n",
            "|  1|         L. Messi| 30|https://cdn.sofif...|  Argentina|https://cdn.sofif...|     93|       93|       FC Barcelona|https://cdn.sofif...| €105M|€565K|   2154|          92|        48|     90|     95|          95|       96|      77|   89|       97|       95|                90|        6|         11|        15|            14|          8|              71|           22|     68|          87|        88|     13|       74|         93|       95|           88|        85|            26|          87|     73|             28|      59|    90|     85|92.0|45.0|59.0|92.0|84.0|158023|92.0|57.0|45.0|84.0|59.0|92.0|90.0|88.0|91.0|62.0|                RW |92.0|57.0|45.0|84.0|59.0|92.0|90.0|88.0|91.0|62.0|88.0|\n",
            "|  2|           Neymar| 25|https://cdn.sofif...|     Brazil|https://cdn.sofif...|     92|       94|Paris Saint-Germain|https://cdn.sofif...| €123M|€280K|   2100|          94|        56|     96|     82|          95|       92|      75|   81|       96|       89|                84|        9|          9|        15|            15|         11|              62|           36|     61|          75|        77|     21|       81|         90|       88|           81|        80|            33|          90|     78|             24|      53|    80|     83|88.0|46.0|59.0|88.0|79.0|190871|88.0|59.0|46.0|79.0|59.0|88.0|87.0|84.0|89.0|64.0|                LW |88.0|59.0|46.0|79.0|59.0|88.0|87.0|84.0|89.0|64.0|84.0|\n",
            "|  3|        L. Suárez| 30|https://cdn.sofif...|    Uruguay|https://cdn.sofif...|     92|       92|       FC Barcelona|https://cdn.sofif...|  €97M|€510K|   2291|          88|        78|     86|     60|          91|       83|      77|   86|       86|       94|                84|       27|         25|        31|            33|         37|              77|           41|     69|          64|        86|     30|       85|         92|       93|           83|        87|            38|          77|     89|             45|      80|    84|     88|87.0|58.0|65.0|88.0|80.0|176580|87.0|64.0|58.0|80.0|65.0|88.0|85.0|88.0|87.0|68.0|                ST |87.0|64.0|58.0|80.0|65.0|88.0|85.0|88.0|87.0|68.0|88.0|\n",
            "|  4|         M. Neuer| 31|https://cdn.sofif...|    Germany|https://cdn.sofif...|     92|       92|   FC Bayern Munich|https://cdn.sofif...|  €61M|€230K|   1493|          58|        29|     52|     35|          48|       70|      15|   14|       30|       13|                11|       91|         90|        95|            91|         89|              25|           30|     78|          59|        16|     10|       47|         12|       85|           55|        25|            11|          61|     44|             10|      83|    70|     11|null|null|null|null|null|167495|null|null|null|null|null|null|null|null|null|null|                GK |null|null|null|null|null|null|null|null|null|null|null|\n",
            "|  5|   R. Lewandowski| 28|https://cdn.sofif...|     Poland|https://cdn.sofif...|     91|       91|   FC Bayern Munich|https://cdn.sofif...|  €92M|€355K|   2143|          79|        80|     78|     80|          89|       87|      62|   77|       85|       91|                84|       15|          6|        12|             8|         10|              85|           39|     84|          65|        83|     25|       81|         91|       91|           83|        88|            19|          83|     79|             42|      84|    78|     87|84.0|57.0|62.0|87.0|78.0|188545|84.0|58.0|57.0|78.0|62.0|87.0|82.0|88.0|84.0|61.0|                ST |84.0|58.0|57.0|78.0|62.0|87.0|82.0|88.0|84.0|61.0|88.0|\n",
            "|  6|           De Gea| 26|https://cdn.sofif...|      Spain|https://cdn.sofif...|     90|       92|  Manchester United|https://cdn.sofif...|€64.5M|€215K|   1458|          57|        38|     60|     43|          42|       64|      17|   21|       18|       13|                19|       90|         85|        87|            86|         90|              21|           30|     67|          51|        12|     13|       40|         12|       88|           50|        31|            13|          58|     40|             21|      64|    68|     13|null|null|null|null|null|193080|null|null|null|null|null|null|null|null|null|null|                GK |null|null|null|null|null|null|null|null|null|null|null|\n",
            "|  7|        E. Hazard| 26|https://cdn.sofif...|    Belgium|https://cdn.sofif...|     90|       91|            Chelsea|https://cdn.sofif...|€90.5M|€295K|   2096|          93|        54|     93|     91|          92|       87|      80|   82|       93|       83|                79|       11|         12|         6|             8|          8|              57|           41|     59|          81|        82|     25|       86|         85|       85|           86|        79|            22|          87|     79|             27|      65|    86|     79|88.0|47.0|61.0|87.0|81.0|183277|88.0|59.0|47.0|81.0|61.0|87.0|87.0|82.0|88.0|64.0|                LW |88.0|59.0|47.0|81.0|61.0|87.0|87.0|82.0|88.0|64.0|82.0|\n",
            "|  8|         T. Kroos| 27|https://cdn.sofif...|    Germany|https://cdn.sofif...|     90|       90|     Real Madrid CF|https://cdn.sofif...|  €79M|€340K|   2165|          60|        60|     71|     69|          89|       85|      85|   85|       79|       76|                84|       10|         11|        13|             7|         10|              54|           85|     32|          93|        90|     63|       73|         79|       86|           90|        87|            69|          52|     77|             82|      74|    88|     82|83.0|72.0|82.0|81.0|87.0|182521|83.0|76.0|72.0|87.0|82.0|81.0|81.0|77.0|80.0|78.0|            CDM CM |83.0|76.0|72.0|87.0|82.0|81.0|81.0|77.0|80.0|78.0|77.0|\n",
            "|  9|       G. Higuaín| 29|https://cdn.sofif...|  Argentina|https://cdn.sofif...|     90|       90|           Juventus|https://cdn.sofif...|  €77M|€275K|   1961|          78|        50|     75|     69|          85|       86|      68|   74|       84|       91|                62|        5|         12|         7|             5|         10|              86|           20|     79|          59|        82|     12|       70|         92|       88|           75|        88|            18|          80|     72|             22|      85|    70|     88|81.0|46.0|52.0|84.0|71.0|167664|81.0|51.0|46.0|71.0|52.0|84.0|79.0|87.0|82.0|55.0|                ST |81.0|51.0|46.0|71.0|52.0|84.0|79.0|87.0|82.0|55.0|87.0|\n",
            "+---+-----------------+---+--------------------+-----------+--------------------+-------+---------+-------------------+--------------------+------+-----+-------+------------+----------+-------+-------+------------+---------+--------+-----+---------+---------+------------------+---------+-----------+----------+--------------+-----------+----------------+-------------+-------+------------+----------+-------+---------+-----------+---------+-------------+----------+--------------+------------+-------+---------------+--------+------+-------+----+----+----+----+----+------+----+----+----+----+----+----+----+----+----+----+-------------------+----+----+----+----+----+----+----+----+----+----+----+\n",
            "only showing top 10 rows\n",
            "\n"
          ]
        }
      ],
      "source": [
        "# show data\n",
        "df1.show(10)"
      ]
    },
    {
      "cell_type": "code",
      "execution_count": null,
      "metadata": {
        "colab": {
          "base_uri": "https://localhost:8080/"
        },
        "id": "D_9jCw0WkmWT",
        "outputId": "862f610f-bfc8-4d04-8a6a-aca738c8ead4"
      },
      "outputs": [
        {
          "data": {
            "text/plain": [
              "2"
            ]
          },
          "execution_count": 29,
          "metadata": {},
          "output_type": "execute_result"
        }
      ],
      "source": [
        "# how many partitions in the df1\n",
        "df1.rdd.getNumPartitions()"
      ]
    },
    {
      "cell_type": "code",
      "execution_count": null,
      "metadata": {
        "colab": {
          "base_uri": "https://localhost:8080/"
        },
        "id": "z3K6QMKCmJMD",
        "outputId": "218b9e85-a70b-4140-c329-93168ff559ac"
      },
      "outputs": [
        {
          "data": {
            "text/plain": [
              "4"
            ]
          },
          "execution_count": 30,
          "metadata": {},
          "output_type": "execute_result"
        }
      ],
      "source": [
        "# increase the partitions in df\n",
        "df2 = df1.repartition(4)\n",
        "df2.rdd.getNumPartitions()"
      ]
    },
    {
      "cell_type": "code",
      "execution_count": null,
      "metadata": {
        "colab": {
          "base_uri": "https://localhost:8080/"
        },
        "id": "8BmGCyNPmap4",
        "outputId": "cb77aaa1-c292-456b-a3cf-5fbf5cf1d92d"
      },
      "outputs": [
        {
          "data": {
            "text/plain": [
              "3"
            ]
          },
          "execution_count": 31,
          "metadata": {},
          "output_type": "execute_result"
        }
      ],
      "source": [
        "# decrease the partitions in df\n",
        "df3 = df2.coalesce(3)\n",
        "df3.rdd.getNumPartitions()"
      ]
    },
    {
      "cell_type": "code",
      "execution_count": null,
      "metadata": {
        "colab": {
          "base_uri": "https://localhost:8080/"
        },
        "id": "SxNIOt8smp_q",
        "outputId": "12ef891e-5de0-4b4e-f99f-aeec66ddd5bd"
      },
      "outputs": [
        {
          "name": "stdout",
          "output_type": "stream",
          "text": [
            "+-----+------------+---+--------------------+-----------+--------------------+-------+---------+-------------------+--------------------+-----+----+-------+------------+----------+-------+-------+------------+---------+--------+-----+---------+---------+------------------+---------+-----------+----------+--------------+-----------+----------------+-------------+-------+------------+----------+-------+---------+-----------+---------+-------------+----------+--------------+------------+-------+---------------+--------+------+-------+----+----+----+----+----+------+----+----+----+----+----+----+----+----+----+----+-------------------+----+----+----+----+----+----+----+----+----+----+----+\n",
            "|   ID|        Name|Age|               Photo|Nationality|                Flag|Overall|Potential|               Club|           Club Logo|Value|Wage|Special|Acceleration|Aggression|Agility|Balance|Ball_Control|Composure|Crossing|Curve|Dribbling|Finishing|Free kick accuracy|GK diving|GK handling|GK kicking|GK positioning|GK reflexes|Heading accuracy|Interceptions|Jumping|Long passing|Long shots|Marking|Penalties|Positioning|Reactions|Short passing|Shot power|Sliding_Tackle|Sprint speed|Stamina|Standing tackle|Strength|Vision|Volleys| CAM|  CB| CDM|  CF|  CM|    ID| LAM|  LB| LCB| LCM| LDM|  LF|  LM|  LS|  LW| LWB|Preferred Positions| RAM|  RB| RCB| RCM| RDM|  RF|  RM|  RS|  RW| RWB|  ST|\n",
            "+-----+------------+---+--------------------+-----------+--------------------+-------+---------+-------------------+--------------------+-----+----+-------+------------+----------+-------+-------+------------+---------+--------+-----+---------+---------+------------------+---------+-----------+----------+--------------+-----------+----------------+-------------+-------+------------+----------+-------+---------+-----------+---------+-------------+----------+--------------+------------+-------+---------------+--------+------+-------+----+----+----+----+----+------+----+----+----+----+----+----+----+----+----+----+-------------------+----+----+----+----+----+----+----+----+----+----+----+\n",
            "| 4566|H. Salazores| 29|https://cdn.sofif...|      Chile|https://cdn.sofif...|     71|       71| Santiago Wanderers|https://cdn.sofif...|€1.8M| €4K|   1915|          78|        64|     81|     77|          69|       69|      71|   58|       66|       48|                60|       14|         11|        11|            11|         11|              50|           73|     69|          51|        68|     66|       55|         63|       71|           67|        75|            72|          74|     76|             68|      64|    59|     64|65.0|67.0|67.0|65.0|65.0|160172|65.0|70.0|67.0|65.0|67.0|65.0|67.0|63.0|67.0|71.0|                LB |65.0|70.0|67.0|65.0|67.0|65.0|67.0|63.0|67.0|71.0|63.0|\n",
            "|10703| J. Karlsson| 28|https://cdn.sofif...|     Sweden|https://cdn.sofif...|     65|       65|Jönköpings Södra IF|https://cdn.sofif...|€450K| €1K|   1520|          53|        87|     58|     55|          50|       59|      55|   47|       43|       31|                30|       13|          7|         9|             9|         11|              52|           61|     58|          45|        28|     72|       42|         36|       59|           54|        47|            62|          55|     61|             65|      74|    57|     34|48.0|64.0|60.0|46.0|51.0| 20689|48.0|59.0|64.0|51.0|60.0|46.0|50.0|46.0|47.0|58.0|                CB |48.0|59.0|64.0|51.0|60.0|46.0|50.0|46.0|47.0|58.0|46.0|\n",
            "| 7502|   J. Michel| 25|https://cdn.sofif...|     France|https://cdn.sofif...|     68|       71|   Sporting Lokeren|https://cdn.sofif...|€1.1M| €9K|   1805|          47|        58|     71|     70|          70|       73|      71|   73|       65|       51|                71|       13|          9|        14|            14|         12|              56|           66|     48|          73|        71|     46|       66|         57|       65|           71|        69|            54|          42|     67|             56|      56|    67|     66|65.0|57.0|63.0|62.0|67.0|212169|65.0|60.0|57.0|67.0|63.0|62.0|63.0|60.0|63.0|62.0|     LM CAM CDM CM |65.0|60.0|57.0|67.0|63.0|62.0|63.0|60.0|63.0|62.0|60.0|\n",
            "| 8437|      O. Şam| 31|https://cdn.sofif...|     Turkey|https://cdn.sofif...|     67|       67|  Gençlerbirliği SK|https://cdn.sofif...|€500K|€10K|   1660|          65|        68|     73|     66|          63|       62|      61|   61|       62|       34|                41|       14|          7|        13|             9|         11|              68|           64|     65|          60|        41|     67|       35|         36|       67|           63|        49|            67|          69|     65|             69|      67|    38|     22|55.0|67.0|64.0|53.0|57.0|125103|55.0|66.0|67.0|57.0|64.0|53.0|58.0|53.0|56.0|65.0|                RB |55.0|66.0|67.0|57.0|64.0|53.0|58.0|53.0|56.0|65.0|53.0|\n",
            "| 4167|   J. Campos| 29|https://cdn.sofif...|    Bolivia|https://cdn.sofif...|     71|       71|               null|https://cdn.sofif...|   €0|  €0|   1758|          66|        39|     71|     79|          78|       64|      64|   78|       72|       58|                75|        9|         16|        15|            10|          7|              45|           29|     57|          64|        74|     24|       81|         61|       63|           72|        68|            23|          64|     78|             21|      62|    72|     63|70.0|39.0|51.0|68.0|66.0|196913|70.0|48.0|39.0|66.0|51.0|68.0|69.0|64.0|68.0|53.0|         CM LM CAM |70.0|48.0|39.0|66.0|51.0|68.0|69.0|64.0|68.0|53.0|64.0|\n",
            "+-----+------------+---+--------------------+-----------+--------------------+-------+---------+-------------------+--------------------+-----+----+-------+------------+----------+-------+-------+------------+---------+--------+-----+---------+---------+------------------+---------+-----------+----------+--------------+-----------+----------------+-------------+-------+------------+----------+-------+---------+-----------+---------+-------------+----------+--------------+------------+-------+---------------+--------+------+-------+----+----+----+----+----+------+----+----+----+----+----+----+----+----+----+----+-------------------+----+----+----+----+----+----+----+----+----+----+----+\n",
            "only showing top 5 rows\n",
            "\n"
          ]
        }
      ],
      "source": [
        "# rename columns and deal with null values\n",
        "df2 = df2.withColumnRenamed('_c0','ID')\\\n",
        "    .withColumnRenamed('Ball control', 'Ball_Control')\\\n",
        "    .withColumnRenamed('Sliding tackle', 'Sliding_Tackle')\n",
        "\n",
        "df2.na.fill(\n",
        "    {\n",
        "        'RAM': 10,\n",
        "        'RB': 1\n",
        "    }\n",
        ").show(5)"
      ]
    },
    {
      "cell_type": "code",
      "execution_count": null,
      "metadata": {
        "colab": {
          "base_uri": "https://localhost:8080/"
        },
        "id": "eKmgrt9moIg7",
        "outputId": "145c0c4f-0adb-423a-dde1-80b72889d9c0"
      },
      "outputs": [
        {
          "name": "stdout",
          "output_type": "stream",
          "text": [
            "+------------+-------+\n",
            "|        Name|Overall|\n",
            "+------------+-------+\n",
            "|   T. Hołota|     65|\n",
            "|    J. Salas|     67|\n",
            "|Park Han Bin|     64|\n",
            "| R. Murawski|     70|\n",
            "|   M. Appiah|     66|\n",
            "+------------+-------+\n",
            "only showing top 5 rows\n",
            "\n"
          ]
        }
      ],
      "source": [
        "df2.select('Name','Overall').show(5)"
      ]
    },
    {
      "cell_type": "code",
      "execution_count": null,
      "metadata": {
        "colab": {
          "base_uri": "https://localhost:8080/"
        },
        "id": "vdwqQWcEoTBl",
        "outputId": "71abc494-8530-41bc-fb99-83d38165ec49"
      },
      "outputs": [
        {
          "name": "stdout",
          "output_type": "stream",
          "text": [
            "+----+-----------+---+--------------------+-----------+--------------------+-------+---------+-------------+--------------------+-----+----+-------+------------+----------+-------+-------+------------+---------+--------+-----+---------+---------+------------------+---------+-----------+----------+--------------+-----------+----------------+-------------+-------+------------+----------+-------+---------+-----------+---------+-------------+----------+--------------+------------+-------+---------------+--------+------+-------+----+----+----+----+----+------+----+----+----+----+----+----+----+----+----+----+-------------------+----+----+----+----+----+----+----+----+----+----+----+\n",
            "|  ID|       Name|Age|               Photo|Nationality|                Flag|Overall|Potential|         Club|           Club Logo|Value|Wage|Special|Acceleration|Aggression|Agility|Balance|Ball_Control|Composure|Crossing|Curve|Dribbling|Finishing|Free kick accuracy|GK diving|GK handling|GK kicking|GK positioning|GK reflexes|Heading accuracy|Interceptions|Jumping|Long passing|Long shots|Marking|Penalties|Positioning|Reactions|Short passing|Shot power|Sliding_Tackle|Sprint speed|Stamina|Standing tackle|Strength|Vision|Volleys| CAM|  CB| CDM|  CF|  CM|    ID| LAM|  LB| LCB| LCM| LDM|  LF|  LM|  LS|  LW| LWB|Preferred Positions| RAM|  RB| RCB| RCM| RDM|  RF|  RM|  RS|  RW| RWB|  ST|\n",
            "+----+-----------+---+--------------------+-----------+--------------------+-------+---------+-------------+--------------------+-----+----+-------+------------+----------+-------+-------+------------+---------+--------+-----+---------+---------+------------------+---------+-----------+----------+--------------+-----------+----------------+-------------+-------+------------+----------+-------+---------+-----------+---------+-------------+----------+--------------+------------+-------+---------------+--------+------+-------+----+----+----+----+----+------+----+----+----+----+----+----+----+----+----+----+-------------------+----+----+----+----+----+----+----+----+----+----+----+\n",
            "| 226|A. Florenzi| 26|https://cdn.sofif...|      Italy|https://cdn.sofif...|     82|       84|         Roma|https://cdn.sofif...| €22M|€73K|   2265|          86|        79|     87|     84|          84|       79|      77|   73|       79|       76|                79|        9|          8|        10|            11|         10|              70|           77|     74|          75|        82|     73|       76|         82|       79|           82|        82|            78|          84|     90|             79|      68|    75|     87|80.0|76.0|79.0|80.0|80.0|203551|80.0|80.0|76.0|80.0|79.0|80.0|81.0|79.0|81.0|80.0|          CM RW RB |80.0|80.0|76.0|80.0|79.0|80.0|81.0|79.0|81.0|80.0|79.0|\n",
            "|4167|  J. Campos| 29|https://cdn.sofif...|    Bolivia|https://cdn.sofif...|     71|       71|         null|https://cdn.sofif...|   €0|  €0|   1758|          66|        39|     71|     79|          78|       64|      64|   78|       72|       58|                75|        9|         16|        15|            10|          7|              45|           29|     57|          64|        74|     24|       81|         61|       63|           72|        68|            23|          64|     78|             21|      62|    72|     63|70.0|39.0|51.0|68.0|66.0|196913|70.0|48.0|39.0|66.0|51.0|68.0|69.0|64.0|68.0|53.0|         CM LM CAM |70.0|48.0|39.0|66.0|51.0|68.0|69.0|64.0|68.0|53.0|64.0|\n",
            "|4253|  M. Rangel| 26|https://cdn.sofif...|   Colombia|https://cdn.sofif...|     71|       74| Kasimpaşa SK|https://cdn.sofif...|  €3M| €4K|   1719|          62|        54|     71|     60|          64|       67|      45|   60|       64|       75|                62|        8|          8|         8|            13|         15|              75|           32|     75|          43|        68|     24|       65|         73|       65|           57|        73|            23|          66|     74|             25|      80|    53|     79|63.0|46.0|46.0|66.0|57.0|214350|63.0|46.0|46.0|57.0|46.0|66.0|61.0|70.0|63.0|48.0|                ST |63.0|46.0|46.0|57.0|46.0|66.0|61.0|70.0|63.0|48.0|70.0|\n",
            "|4113|  D. Jevtić| 24|https://cdn.sofif...|Switzerland|https://cdn.sofif...|     71|       77|  Lech Poznań|https://cdn.sofif...|€3.2M| €7K|   1823|          74|        54|     72|     76|          71|       65|      66|   69|       72|       68|                65|       12|         13|        14|             8|          9|              50|           47|     69|          67|        65|     42|       68|         71|       63|           73|        68|            31|          70|     69|             35|      65|    73|     54|71.0|49.0|57.0|70.0|67.0|208160|71.0|54.0|49.0|67.0|57.0|70.0|70.0|67.0|70.0|58.0|            CAM LM |71.0|54.0|49.0|67.0|57.0|70.0|70.0|67.0|70.0|58.0|67.0|\n",
            "|3677|    Moreira| 35|https://cdn.sofif...|   Portugal|https://cdn.sofif...|     72|       72|Estoril Praia|https://cdn.sofif...|€725K| €4K|   1206|          54|        40|     40|     45|          29|       44|      19|   18|       17|       14|                17|       73|         73|        64|            71|         72|              13|           23|     81|          34|        11|     12|       11|         14|       68|           33|        44|            14|          48|     30|             10|      63|    32|     19|null|null|null|null|null|  3974|null|null|null|null|null|null|null|null|null|null|                GK |null|null|null|null|null|null|null|null|null|null|null|\n",
            "+----+-----------+---+--------------------+-----------+--------------------+-------+---------+-------------+--------------------+-----+----+-------+------------+----------+-------+-------+------------+---------+--------+-----+---------+---------+------------------+---------+-----------+----------+--------------+-----------+----------------+-------------+-------+------------+----------+-------+---------+-----------+---------+-------------+----------+--------------+------------+-------+---------------+--------+------+-------+----+----+----+----+----+------+----+----+----+----+----+----+----+----+----+----+-------------------+----+----+----+----+----+----+----+----+----+----+----+\n",
            "only showing top 5 rows\n",
            "\n"
          ]
        }
      ],
      "source": [
        "df2.filter(df2['Overall']>70).show(5)"
      ]
    },
    {
      "cell_type": "code",
      "execution_count": null,
      "metadata": {
        "colab": {
          "base_uri": "https://localhost:8080/"
        },
        "id": "UwJhz8T_pjO1",
        "outputId": "1cb77f5e-bd22-4139-aad4-ea15f83825c4"
      },
      "outputs": [
        {
          "name": "stdout",
          "output_type": "stream",
          "text": [
            "+-------+------------------+---+\n",
            "|Overall|              Name|Age|\n",
            "+-------+------------------+---+\n",
            "|     81|      R. Guerreiro| 23|\n",
            "|     72|         A. Benali| 25|\n",
            "|     87|          A. Vidal| 30|\n",
            "|     71|     Marlion Rolim| 25|\n",
            "|     71|         I. Hayden| 22|\n",
            "|     71|      P. Rodríguez| 27|\n",
            "|     73|        T. Carroll| 25|\n",
            "|     76|        G. Mercado| 30|\n",
            "|     83|         K. Walker| 27|\n",
            "|     71|            Martos| 33|\n",
            "|     71|    Martin Cordeia| 33|\n",
            "|     73|              Tito| 31|\n",
            "|     71|K. Vandendriessche| 27|\n",
            "|     78|           Muniain| 24|\n",
            "|     75|    Allan Bardinho| 25|\n",
            "|     72|   A. Martín Arias| 24|\n",
            "|     71|       M. Albornoz| 26|\n",
            "|     71|       V. Fayzulin| 31|\n",
            "|     74|          C. Obasi| 31|\n",
            "|     74|      G. Karadeniz| 37|\n",
            "+-------+------------------+---+\n",
            "only showing top 20 rows\n",
            "\n"
          ]
        }
      ],
      "source": [
        "df2.select('Overall','Name','Age').where(df2['Overall']>70).show()"
      ]
    },
    {
      "cell_type": "code",
      "execution_count": null,
      "metadata": {
        "colab": {
          "base_uri": "https://localhost:8080/"
        },
        "id": "FmLIvY43p0xo",
        "outputId": "a7075553-a725-4671-a012-fb171f48af9e"
      },
      "outputs": [
        {
          "name": "stdout",
          "output_type": "stream",
          "text": [
            "+---+-----+\n",
            "|Age|count|\n",
            "+---+-----+\n",
            "| 18|    2|\n",
            "| 20|    3|\n",
            "| 21|   11|\n",
            "| 22|   16|\n",
            "| 23|   23|\n",
            "| 24|   27|\n",
            "| 25|   34|\n",
            "| 26|   39|\n",
            "| 27|   39|\n",
            "| 28|   43|\n",
            "| 29|   35|\n",
            "| 30|   39|\n",
            "| 31|   26|\n",
            "| 32|   21|\n",
            "| 33|   15|\n",
            "| 34|    8|\n",
            "| 35|    6|\n",
            "| 36|    4|\n",
            "| 39|    1|\n",
            "+---+-----+\n",
            "\n"
          ]
        }
      ],
      "source": [
        "df2.filter(df2['Overall']>80).groupby('Age').count().sort('Age').show()"
      ]
    },
    {
      "cell_type": "code",
      "execution_count": null,
      "metadata": {
        "colab": {
          "base_uri": "https://localhost:8080/",
          "height": 300
        },
        "id": "In0Zy1QtqKnO",
        "outputId": "b3e312ab-35dd-488f-cdec-5d92a4dc8afe"
      },
      "outputs": [
        {
          "data": {
            "text/plain": [
              "<matplotlib.axes._subplots.AxesSubplot at 0x7f45f98e3760>"
            ]
          },
          "execution_count": 58,
          "metadata": {},
          "output_type": "execute_result"
        },
        {
          "data": {
            "image/png": "[encoded data removed]",
            "text/plain": [
              "<Figure size 432x288 with 1 Axes>"
            ]
          },
          "metadata": {
            "needs_background": "light"
          },
          "output_type": "display_data"
        }
      ],
      "source": [
        "df2_result = df2.filter(df2['Overall']>80).groupby('Age').count().sort('Age')\n",
        "pandas_df = df2_result.toPandas()\n",
        "pandas_df.plot(x='Age', y='count', kind='bar')\n"
      ]
    },
    {
      "cell_type": "code",
      "execution_count": null,
      "metadata": {
        "colab": {
          "base_uri": "https://localhost:8080/",
          "height": 300
        },
        "id": "xTGQ9nGcrARw",
        "outputId": "c09d582a-332f-4f82-8296-65d4c7c5f2e1"
      },
      "outputs": [
        {
          "data": {
            "text/plain": [
              "<matplotlib.axes._subplots.AxesSubplot at 0x7f45f941e670>"
            ]
          },
          "execution_count": 59,
          "metadata": {},
          "output_type": "execute_result"
        },
        {
          "data": {
            "image/png": "[encoded data removed]",
            "text/plain": [
              "<Figure size 432x288 with 1 Axes>"
            ]
          },
          "metadata": {
            "needs_background": "light"
          },
          "output_type": "display_data"
        }
      ],
      "source": [
        "pandas_df.sort_values(by='count',ascending=False)\\\n",
        "    .plot(x='Age', y='count', kind='bar')\n"
      ]
    },
    {
      "cell_type": "code",
      "execution_count": null,
      "metadata": {
        "id": "YwdbnL0hr7jR"
      },
      "outputs": [],
      "source": []
    },
    {
      "cell_type": "markdown",
      "metadata": {
        "id": "oCfw_Fm0sJI-"
      },
      "source": [
        "## Part 2: Advanced DF Operations: Spark SQL and UDF"
      ]
    },
    {
      "cell_type": "code",
      "execution_count": null,
      "metadata": {
        "id": "ChnG7eIFsSUW"
      },
      "outputs": [],
      "source": [
        "df2.createOrReplaceTempView('d_football')"
      ]
    },
    {
      "cell_type": "code",
      "execution_count": null,
      "metadata": {
        "colab": {
          "base_uri": "https://localhost:8080/"
        },
        "id": "FrWpSrHPseQV",
        "outputId": "359b93e7-bb04-4717-cd92-87d57e5e54cd"
      },
      "outputs": [
        {
          "name": "stdout",
          "output_type": "stream",
          "text": [
            "+---+-----+\n",
            "|Age|count|\n",
            "+---+-----+\n",
            "| 17|    1|\n",
            "| 18|   13|\n",
            "| 19|   41|\n",
            "| 20|  105|\n",
            "| 21|  160|\n",
            "| 22|  246|\n",
            "| 23|  296|\n",
            "| 24|  369|\n",
            "| 25|  486|\n",
            "| 26|  418|\n",
            "| 27|  444|\n",
            "| 28|  395|\n",
            "| 29|  474|\n",
            "| 30|  359|\n",
            "| 31|  272|\n",
            "| 32|  206|\n",
            "| 33|  283|\n",
            "| 34|  101|\n",
            "| 35|   74|\n",
            "| 36|   57|\n",
            "+---+-----+\n",
            "only showing top 20 rows\n",
            "\n"
          ]
        }
      ],
      "source": [
        "query = '''\n",
        "        SELECT \n",
        "            Age, \n",
        "             count(*) as count\n",
        "        FROM d_football\n",
        "        WHERE Overall > 70\n",
        "        GROUP BY Age\n",
        "        ORDER BY Age\n",
        "'''\n",
        "\n",
        "res = spark.sql(query)\n",
        "res.show()"
      ]
    },
    {
      "cell_type": "markdown",
      "metadata": {
        "id": "pgraubJJANYb"
      },
      "source": [
        "### UDF"
      ]
    },
    {
      "cell_type": "code",
      "execution_count": null,
      "metadata": {
        "colab": {
          "base_uri": "https://localhost:8080/"
        },
        "id": "m8XhS6k3s-XC",
        "outputId": "78c4a63c-53ee-4577-9481-38e4d46e5739"
      },
      "outputs": [
        {
          "name": "stdout",
          "output_type": "stream",
          "text": [
            "+---+-----------------+--------------------+\n",
            "|Age|             Name|                Club|\n",
            "+---+-----------------+--------------------+\n",
            "| 26|         v. moren|    WAASLAND-BEVEREN|\n",
            "| 33|        c. agoste|UNIVERSIDAD CATÓLICA|\n",
            "| 19|    STEVEN PRIETO|         REAL OVIEDO|\n",
            "| 21|        c. alemán|ESTUDIANTES DE LA...|\n",
            "| 27|       p. wiegers|   SG DYNAMO DRESDEN|\n",
            "| 26|     H. YAMAGUCHI|        CEREZO OSAKA|\n",
            "| 29|    D. MCGOLDRICK|        IPSWICH TOWN|\n",
            "| 24|       r. teibert|VANCOUVER WHITECA...|\n",
            "| 20|          i. radu|            avellino|\n",
            "| 28|   P. ABRAHAMSSON|           bk häcken|\n",
            "| 21|       c. burgess|   SCUNTHORPE UNITED|\n",
            "| 31|            galán|      RAYO VALLECANO|\n",
            "| 25|       r. andrero|      AUDAX ITALIANO|\n",
            "| 31|         m. topal|       FENERBAHÇE SK|\n",
            "| 23|        l. moneta|      LEGIA WARSZAWA|\n",
            "| 21|        t. szántó|       SK RAPID WIEN|\n",
            "| 23|          y. njie|         BOAVISTA FC|\n",
            "| 20|     AARÓN MARTÍN|        RCD ESPANYOL|\n",
            "| 23|K. FRIESENBICHLER|     FK AUSTRIA WIEN|\n",
            "| 20|       a. mayorga|         GUADALAJARA|\n",
            "+---+-----------------+--------------------+\n",
            "only showing top 20 rows\n",
            "\n"
          ]
        }
      ],
      "source": [
        "def uppercase_converter(record):\n",
        "    if record is not None:\n",
        "        if len(record) > 10:\n",
        "            return record.upper()\n",
        "        else:\n",
        "            return record.lower()\n",
        "\n",
        "# register the df\n",
        "df2.createOrReplaceTempView('d_football_2')\n",
        "\n",
        "# register the function\n",
        "spark.udf.register('UPPER_SHIXI', uppercase_converter)\n",
        "\n",
        "# use the udf in SQL\n",
        "query2 = '''\n",
        "select Age, \n",
        "UPPER_SHIXI(Name) as Name,\n",
        "UPPER_SHIXI(Club) as Club\n",
        "from d_football_2\n",
        "'''\n",
        "\n",
        "res2 = spark.sql(query2)\n",
        "res2.show()"
      ]
    },
    {
      "cell_type": "code",
      "execution_count": null,
      "metadata": {
        "id": "uz_yjxDiFqmY"
      },
      "outputs": [],
      "source": []
    }
  ],
  "metadata": {
    "colab": {
      "provenance": []
    },
    "kernelspec": {
      "display_name": "menv",
      "language": "python",
      "name": "python3"
    },
    "language_info": {
      "codemirror_mode": {
        "name": "ipython",
        "version": 3
      },
      "file_extension": ".py",
      "mimetype": "text/x-python",
      "name": "python",
      "nbconvert_exporter": "python",
      "pygments_lexer": "ipython3",
      "version": "3.6.8"
    },
    "vscode": {
      "interpreter": {
        "hash": "944601d5abec3453c42fde108792a50cb495bbb2ed838bca11b12ecd3eb44769"
      }
    }
  },
  "nbformat": 4,
  "nbformat_minor": 0
}
